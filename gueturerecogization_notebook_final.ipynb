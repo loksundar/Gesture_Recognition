{
  "cells": [
    {
      "cell_type": "markdown",
      "metadata": {
        "id": "Cvy3UqqDij6M"
      },
      "source": [
        "# Gesture Recognition\n",
        "In this group project, you are going to build a 3D Conv model that will be able to predict the 5 gestures correctly. Please import the following libraries to get started."
      ]
    },
    {
      "cell_type": "code",
      "execution_count": null,
      "metadata": {
        "id": "FOIHhKrDij6V"
      },
      "outputs": [],
      "source": [
        "import numpy as np\n",
        "import os\n",
        "#from scipy.misc import imread, imresize\n",
        "from skimage.transform import resize as imresize\n",
        "from imageio import imread\n",
        "import datetime\n",
        "import os"
      ]
    },
    {
      "cell_type": "code",
      "execution_count": null,
      "metadata": {
        "colab": {
          "base_uri": "https://localhost:8080/"
        },
        "id": "9tSWgyfSyTq7",
        "outputId": "5849155a-fd3f-46c1-83e2-2a23569358fa"
      },
      "outputs": [
        {
          "output_type": "stream",
          "name": "stdout",
          "text": [
            "Tue Sep 13 07:33:54 2022       \n",
            "+-----------------------------------------------------------------------------+\n",
            "| NVIDIA-SMI 460.32.03    Driver Version: 460.32.03    CUDA Version: 11.2     |\n",
            "|-------------------------------+----------------------+----------------------+\n",
            "| GPU  Name        Persistence-M| Bus-Id        Disp.A | Volatile Uncorr. ECC |\n",
            "| Fan  Temp  Perf  Pwr:Usage/Cap|         Memory-Usage | GPU-Util  Compute M. |\n",
            "|                               |                      |               MIG M. |\n",
            "|===============================+======================+======================|\n",
            "|   0  Tesla P100-PCIE...  Off  | 00000000:00:04.0 Off |                    0 |\n",
            "| N/A   35C    P0    27W / 250W |      0MiB / 16280MiB |      0%      Default |\n",
            "|                               |                      |                  N/A |\n",
            "+-------------------------------+----------------------+----------------------+\n",
            "                                                                               \n",
            "+-----------------------------------------------------------------------------+\n",
            "| Processes:                                                                  |\n",
            "|  GPU   GI   CI        PID   Type   Process name                  GPU Memory |\n",
            "|        ID   ID                                                   Usage      |\n",
            "|=============================================================================|\n",
            "|  No running processes found                                                 |\n",
            "+-----------------------------------------------------------------------------+\n"
          ]
        }
      ],
      "source": [
        "## Checking the GPU configuration\n",
        "!nvidia-smi"
      ]
    },
    {
      "cell_type": "code",
      "execution_count": null,
      "metadata": {
        "id": "UPGQk9y0pwos"
      },
      "outputs": [],
      "source": [
        "#!unzip \"/content/drive/Othercomputers/My Laptop (1)/Upgrad DS/Deep Learning/Gesture Recognization/Project_data.zip\" -d \"/content/drive/Othercomputers/My Laptop (1)/Upgrad DS/Deep Learning/Gesture Recognization\"\n"
      ]
    },
    {
      "cell_type": "code",
      "execution_count": null,
      "metadata": {
        "colab": {
          "base_uri": "https://localhost:8080/"
        },
        "id": "bQulaqlr1gN2",
        "outputId": "1c324055-7e06-493b-dd7b-45a0758e5e7c"
      },
      "outputs": [
        {
          "output_type": "stream",
          "name": "stdout",
          "text": [
            "Mounted at /content/drive\n"
          ]
        }
      ],
      "source": [
        "from google.colab import drive\n",
        "drive.mount('/content/drive')"
      ]
    },
    {
      "cell_type": "markdown",
      "metadata": {
        "id": "0xj13VW2ij6X"
      },
      "source": [
        "We set the random seed so that the results don't vary drastically."
      ]
    },
    {
      "cell_type": "code",
      "execution_count": null,
      "metadata": {
        "id": "1FEmGmY7ij6Y"
      },
      "outputs": [],
      "source": [
        "np.random.seed(30)\n",
        "import random as rn\n",
        "rn.seed(30)\n",
        "#from keras import backend as K\n",
        "import tensorflow as tf\n",
        "#tf.set_random_seed(30)\n",
        "tf.random.set_seed(30)"
      ]
    },
    {
      "cell_type": "markdown",
      "metadata": {
        "id": "8STfhxZLij6Y"
      },
      "source": [
        "In this block, you read the folder names for training and validation. You also set the `batch_size` here. Note that you set the batch size in such a way that you are able to use the GPU in full capacity. You keep increasing the batch size until the machine throws an error."
      ]
    },
    {
      "cell_type": "code",
      "execution_count": null,
      "metadata": {
        "id": "d8x4FV3lij6Y"
      },
      "outputs": [],
      "source": [
        "train_doc = np.random.permutation(open('/content/drive/Othercomputers/My Laptop (1)/Upgrad DS/Deep Learning/Gesture Recognization/Project_data/train.csv').readlines())\n",
        "val_doc = np.random.permutation(open('/content/drive/Othercomputers/My Laptop (1)/Upgrad DS/Deep Learning/Gesture Recognization/Project_data/val.csv').readlines())\n",
        "batch_size = 20#experiment with the batch size"
      ]
    },
    {
      "cell_type": "code",
      "execution_count": null,
      "metadata": {
        "colab": {
          "base_uri": "https://localhost:8080/",
          "height": 35
        },
        "id": "h8ZKtf1SkSBq",
        "outputId": "802cf780-3cb2-48b6-a3ea-4dd916ad8edb"
      },
      "outputs": [
        {
          "output_type": "execute_result",
          "data": {
            "text/plain": [
              "'WIN_20180926_16_54_08_Pro_Right_Swipe_new;Right_Swipe_new;1\\n'"
            ],
            "application/vnd.google.colaboratory.intrinsic+json": {
              "type": "string"
            }
          },
          "metadata": {},
          "execution_count": 7
        }
      ],
      "source": [
        "train_doc[0]"
      ]
    },
    {
      "cell_type": "markdown",
      "metadata": {
        "id": "RBpZZFN6ij6Z"
      },
      "source": [
        "## Generator\n",
        "This is one of the most important part of the code. The overall structure of the generator has been given. In the generator, you are going to preprocess the images as you have images of 2 different dimensions as well as create a batch of video frames. You have to experiment with `img_idx`, `y`,`z` and normalization such that you get high accuracy."
      ]
    },
    {
      "cell_type": "code",
      "execution_count": null,
      "metadata": {
        "id": "o9s0gj5cij6b"
      },
      "outputs": [],
      "source": [
        "def generator(source_path, folder_list, batch_size,img_height=160,img_width=160,channels = 2):\n",
        "    print( 'Source path = ', source_path, '; batch size =', batch_size)\n",
        "    img_idx =[ 0,  2,  3,  5,  6,  8,  9, 11, 12, 14, 15, 17, 18, 20, 21, 23, 24,26, 27, 29]\n",
        "     #create a list of image numbers you want to use for a particular video\n",
        "    while True:\n",
        "        t = np.random.permutation(folder_list)\n",
        "        num_batches = len(t)//batch_size# calculate the number of batches\n",
        "        for batch in range(num_batches): # we iterate over the number of batches\n",
        "            batch_data = np.zeros((batch_size,len(img_idx),img_height,img_width,channels)) # x is the number of images you use for each video, (y,z) is the final size of the input images and 3 is the number of channels RGB\n",
        "            batch_labels = np.zeros((batch_size,5)) # batch_labels is the one hot representation of the output\n",
        "            for folder in range(batch_size): # iterate over the batch_size\n",
        "                imgs = os.listdir(source_path+'/'+ t[folder + (batch*batch_size)].split(';')[0]) # read all the images in the folder\n",
        "                for idx,item in enumerate(img_idx): #  Iterate over the frames/images of a folder to read them in\n",
        "                    image = imread(source_path+'/'+ t[folder + (batch*batch_size)].strip().split(';')[0]+'/'+imgs[item]).astype(np.float32)\n",
        "                    \n",
        "                    #crop the images and resize them. Note that the images are of 2 different shape \n",
        "                    #and the conv3D will throw error if the inputs in a batch have different shapes\n",
        "                    \n",
        "                    image_resized=imresize(image,(img_height,img_width,channels))\n",
        "                    batch_data[folder,idx,:,:,0] = (image_resized[:,:,0])/255#normalise and feed in the image\n",
        "                    batch_data[folder,idx,:,:,1] = (image_resized[:,:,1])/255#normalise and feed in the image\n",
        "                    batch_data[folder,idx,:,:,2] = (image_resized[:,:,2])/255#normalise and feed in the image\n",
        "                    \n",
        "                batch_labels[folder, int(t[folder + (batch*batch_size)].strip().split(';')[2])] = 1\n",
        "            yield batch_data, batch_labels #you yield the batch_data and the batch_labels, remember what does yield do\n",
        "\n",
        "        \n",
        "        # write the code for the remaining data points which are left after full batches\n",
        "        rem =len(t)%batch_size\n",
        "        if rem != 0:\n",
        "          batch_size = len(t)//batch_size\n",
        "          num_batches = len(source_path)%batch_size # calculate the number of batches\n",
        "          for batch in range(num_batches): # we iterate over the number of batches\n",
        "              batch_data = np.zeros((batch_size,len(img_idx),img_height,img_width,channels)) # x is the number of images you use for each video, (y,z) is the final size of the input images and 3 is the number of channels RGB\n",
        "              batch_labels = np.zeros((batch_size,5)) # batch_labels is the one hot representation of the output\n",
        "              for folder in range(batch_size): # iterate over the batch_size\n",
        "                  imgs = os.listdir(source_path+'/'+ t[folder + (batch*batch_size)].split(';')[0]) # read all the images in the folder\n",
        "                  for idx,item in enumerate(img_idx): #  Iterate iver the frames/images of a folder to read them in\n",
        "                      image = imread(source_path+'/'+ t[folder + (batch*batch_size)].strip().split(';')[0]+'/'+imgs[item]).astype(np.float32)\n",
        "                      #crop the images and resize them. Note that the images are of 2 different shape \n",
        "                      #and the conv3D will throw error if the inputs in a batch have different shapes\n",
        "                      image_resized=imresize(image,(img_height,img_width,channels))\n",
        "                      batch_data[folder,idx,:,:,0] = (image_resized[:,:,0])/255\n",
        "                      batch_data[folder,idx,:,:,1] = (image_resized[:,:,1])/255\n",
        "                      batch_data[folder,idx,:,:,2] = (image_resized[:,:,2])/255\n",
        "                  batch_labels[folder, int(t[folder + (batch*batch_size)].strip().split(';')[2])] = 1\n",
        "              yield batch_data, batch_labels #you yield the batch_data and the batch_labels, remember what does yield do\n",
        "\n",
        " "
      ]
    },
    {
      "cell_type": "markdown",
      "metadata": {
        "id": "ZCwOCnrVij6e"
      },
      "source": [
        "Note here that a video is represented above in the generator as (number of images, height, width, number of channels). Take this into consideration while creating the model architecture."
      ]
    },
    {
      "cell_type": "code",
      "execution_count": null,
      "metadata": {
        "colab": {
          "base_uri": "https://localhost:8080/"
        },
        "id": "InoxK-SFij6f",
        "outputId": "d9bc79d3-fc09-4f37-90d4-f8f977b7324a"
      },
      "outputs": [
        {
          "output_type": "stream",
          "name": "stdout",
          "text": [
            "# training sequences = 663\n",
            "# validation sequences = 100\n",
            "# epochs = 25\n"
          ]
        }
      ],
      "source": [
        "curr_dt_time = datetime.datetime.now()\n",
        "train_path = '/content/drive/Othercomputers/My Laptop (1)/Upgrad DS/Deep Learning/Gesture Recognization/Project_data/train'\n",
        "val_path = '/content/drive/Othercomputers/My Laptop (1)/Upgrad DS/Deep Learning/Gesture Recognization/Project_data/val'\n",
        "num_train_sequences = len(train_doc)\n",
        "print('# training sequences =', num_train_sequences)\n",
        "num_val_sequences = len(val_doc)\n",
        "print('# validation sequences =', num_val_sequences)\n",
        "num_epochs = 25\n",
        "print ('# epochs =', num_epochs)"
      ]
    },
    {
      "cell_type": "markdown",
      "metadata": {
        "id": "HF0p3aIqij6h"
      },
      "source": [
        "## Model\n",
        "Here you make the model using different functionalities that Keras provides. Remember to use `Conv3D` and `MaxPooling3D` and not `Conv2D` and `Maxpooling2D` for a 3D convolution model. You would want to use `TimeDistributed` while building a Conv2D + RNN model. Also remember that the last layer is the softmax. Design the network in such a way that the model is able to give good accuracy on the least number of parameters so that it can fit in the memory of the webcam."
      ]
    },
    {
      "cell_type": "code",
      "execution_count": null,
      "metadata": {
        "id": "cQ9JuxFH3IVI"
      },
      "outputs": [],
      "source": [
        "from keras.models import Sequential, Model\n",
        "from keras.layers import Dense, GRU, Flatten, TimeDistributed, Flatten, BatchNormalization, Activation, Dropout\n",
        "from keras.layers.convolutional import Conv3D, MaxPooling3D,Conv2D, MaxPooling2D\n",
        "from keras.callbacks import ModelCheckpoint, ReduceLROnPlateau\n",
        "from keras import optimizers\n",
        "from keras.layers.recurrent import LSTM\n",
        "from keras.applications import mobilenet"
      ]
    },
    {
      "cell_type": "code",
      "source": [
        "Input_shape = (20, 160, 160, 3)\n",
        "model = Sequential()\n",
        "model.add(Conv3D(16, (3,3,3), padding='same',input_shape=Input_shape))\n",
        "model.add(Activation('relu'))\n",
        "model.add(BatchNormalization())\n",
        "model.add(MaxPooling3D(pool_size=(2, 2, 2)))\n",
        "\n",
        "model.add(Conv3D(32, (3,3,3), padding='same'))\n",
        "model.add(Activation('relu'))\n",
        "model.add(BatchNormalization())\n",
        "model.add(MaxPooling3D(pool_size=(2, 2, 2)))\n",
        "\n",
        "model.add(Conv3D(64, (3,3,3), padding='same'))\n",
        "model.add(Activation('relu'))\n",
        "model.add(BatchNormalization())\n",
        "model.add(MaxPooling3D(pool_size=(2, 2, 2)))\n",
        "\n",
        "model.add(Conv3D(128, (3,3,3), padding='same'))\n",
        "model.add(Activation('relu'))\n",
        "model.add(BatchNormalization())\n",
        "model.add(MaxPooling3D(pool_size=(2, 2, 2)))\n",
        "\n",
        "model.add(Flatten())\n",
        "model.add(Dense(64,activation='relu'))\n",
        "model.add(BatchNormalization())\n",
        "model.add(Dropout(0.25))\n",
        "\n",
        "model.add(Dense(64,activation='relu'))\n",
        "model.add(BatchNormalization())\n",
        "model.add(Dropout(0.25))\n",
        "\n",
        "model.add(Dense(5,activation='softmax'))"
      ],
      "metadata": {
        "id": "8VWip9Id1Bxz"
      },
      "execution_count": null,
      "outputs": []
    },
    {
      "cell_type": "markdown",
      "metadata": {
        "id": "qeSjsLkjij6i"
      },
      "source": [
        "Now that you have written the model, the next step is to `compile` the model. When you print the `summary` of the model, you'll see the total number of parameters you have to train."
      ]
    },
    {
      "cell_type": "code",
      "execution_count": null,
      "metadata": {
        "colab": {
          "base_uri": "https://localhost:8080/"
        },
        "id": "yI8nThNIij6j",
        "outputId": "9eef097f-da55-470e-9f73-6eddacc7079c",
        "scrolled": true
      },
      "outputs": [
        {
          "output_type": "stream",
          "name": "stdout",
          "text": [
            "Model: \"sequential_1\"\n",
            "_________________________________________________________________\n",
            " Layer (type)                Output Shape              Param #   \n",
            "=================================================================\n",
            " conv3d_4 (Conv3D)           (None, 20, 160, 160, 16)  1312      \n",
            "                                                                 \n",
            " activation_4 (Activation)   (None, 20, 160, 160, 16)  0         \n",
            "                                                                 \n",
            " batch_normalization_6 (Batc  (None, 20, 160, 160, 16)  64       \n",
            " hNormalization)                                                 \n",
            "                                                                 \n",
            " max_pooling3d_4 (MaxPooling  (None, 10, 80, 80, 16)   0         \n",
            " 3D)                                                             \n",
            "                                                                 \n",
            " conv3d_5 (Conv3D)           (None, 10, 80, 80, 32)    13856     \n",
            "                                                                 \n",
            " activation_5 (Activation)   (None, 10, 80, 80, 32)    0         \n",
            "                                                                 \n",
            " batch_normalization_7 (Batc  (None, 10, 80, 80, 32)   128       \n",
            " hNormalization)                                                 \n",
            "                                                                 \n",
            " max_pooling3d_5 (MaxPooling  (None, 5, 40, 40, 32)    0         \n",
            " 3D)                                                             \n",
            "                                                                 \n",
            " conv3d_6 (Conv3D)           (None, 5, 40, 40, 64)     55360     \n",
            "                                                                 \n",
            " activation_6 (Activation)   (None, 5, 40, 40, 64)     0         \n",
            "                                                                 \n",
            " batch_normalization_8 (Batc  (None, 5, 40, 40, 64)    256       \n",
            " hNormalization)                                                 \n",
            "                                                                 \n",
            " max_pooling3d_6 (MaxPooling  (None, 2, 20, 20, 64)    0         \n",
            " 3D)                                                             \n",
            "                                                                 \n",
            " conv3d_7 (Conv3D)           (None, 2, 20, 20, 128)    221312    \n",
            "                                                                 \n",
            " activation_7 (Activation)   (None, 2, 20, 20, 128)    0         \n",
            "                                                                 \n",
            " batch_normalization_9 (Batc  (None, 2, 20, 20, 128)   512       \n",
            " hNormalization)                                                 \n",
            "                                                                 \n",
            " max_pooling3d_7 (MaxPooling  (None, 1, 10, 10, 128)   0         \n",
            " 3D)                                                             \n",
            "                                                                 \n",
            " flatten_1 (Flatten)         (None, 12800)             0         \n",
            "                                                                 \n",
            " dense_2 (Dense)             (None, 64)                819264    \n",
            "                                                                 \n",
            " batch_normalization_10 (Bat  (None, 64)               256       \n",
            " chNormalization)                                                \n",
            "                                                                 \n",
            " dropout_2 (Dropout)         (None, 64)                0         \n",
            "                                                                 \n",
            " dense_3 (Dense)             (None, 64)                4160      \n",
            "                                                                 \n",
            " batch_normalization_11 (Bat  (None, 64)               256       \n",
            " chNormalization)                                                \n",
            "                                                                 \n",
            " dropout_3 (Dropout)         (None, 64)                0         \n",
            "                                                                 \n",
            " dense_4 (Dense)             (None, 5)                 325       \n",
            "                                                                 \n",
            "=================================================================\n",
            "Total params: 1,117,061\n",
            "Trainable params: 1,116,325\n",
            "Non-trainable params: 736\n",
            "_________________________________________________________________\n",
            "None\n"
          ]
        }
      ],
      "source": [
        "optimiser = tf.keras.optimizers.Adam()#write your optimizer\n",
        "model.compile(optimizer=optimiser, loss='categorical_crossentropy', metrics=['categorical_accuracy'])\n",
        "print (model.summary())"
      ]
    },
    {
      "cell_type": "markdown",
      "metadata": {
        "id": "BgKSqMrbij6j"
      },
      "source": [
        "Let us create the `train_generator` and the `val_generator` which will be used in `.fit_generator`."
      ]
    },
    {
      "cell_type": "code",
      "execution_count": null,
      "metadata": {
        "id": "d-RwEb4Bij6k"
      },
      "outputs": [],
      "source": [
        "train_generator = generator(train_path, train_doc, batch_size,160,160,3)\n",
        "val_generator = generator(val_path, val_doc, batch_size,160,160,3)"
      ]
    },
    {
      "cell_type": "code",
      "execution_count": null,
      "metadata": {
        "colab": {
          "base_uri": "https://localhost:8080/"
        },
        "id": "7GilOQjyij6k",
        "outputId": "69dec665-419b-407b-918a-da2b12d21756"
      },
      "outputs": [
        {
          "output_type": "stream",
          "name": "stderr",
          "text": [
            "WARNING:tensorflow:`period` argument is deprecated. Please use `save_freq` to specify the frequency in number of batches seen.\n"
          ]
        }
      ],
      "source": [
        "model_name = 'model_init' + 'base' + str(curr_dt_time).replace(' ','').replace(':','_') + '/'\n",
        "    \n",
        "if not os.path.exists(model_name):\n",
        "    os.mkdir(model_name)\n",
        "        \n",
        "filepath =  model_name + 'model-{epoch:05d}-{loss:.5f}-{categorical_accuracy:.5f}-{val_loss:.5f}-{val_categorical_accuracy:.5f}.h5'\n",
        "\n",
        "checkpoint = ModelCheckpoint(filepath, monitor='val_loss', verbose=1, save_best_only=False, save_weights_only=False, mode='auto', period=1)\n",
        "\n",
        "LR =  ReduceLROnPlateau(monitor = \"val_loss\", factor = 0.2, patience = 4,\n",
        "  verbose = 1)# write the REducelronplateau code here\n",
        "callbacks_list = [checkpoint, LR]"
      ]
    },
    {
      "cell_type": "markdown",
      "metadata": {
        "id": "nuklgXRDij6k"
      },
      "source": [
        "The `steps_per_epoch` and `validation_steps` are used by `fit_generator` to decide the number of next() calls it need to make."
      ]
    },
    {
      "cell_type": "code",
      "execution_count": null,
      "metadata": {
        "id": "ogeYTDmKij6k"
      },
      "outputs": [],
      "source": [
        "if (num_train_sequences%batch_size) == 0:\n",
        "    steps_per_epoch = int(num_train_sequences/batch_size)\n",
        "else:\n",
        "    steps_per_epoch = (num_train_sequences//batch_size) + 1\n",
        "\n",
        "if (num_val_sequences%batch_size) == 0:\n",
        "    validation_steps = int(num_val_sequences/batch_size)\n",
        "else:\n",
        "    validation_steps = (num_val_sequences//batch_size) + 1"
      ]
    },
    {
      "cell_type": "markdown",
      "metadata": {
        "id": "uhePUnqoij6l"
      },
      "source": [
        "Let us now fit the model. This will start training the model and with the help of the checkpoints, you'll be able to save the model at the end of each epoch."
      ]
    },
    {
      "cell_type": "code",
      "execution_count": null,
      "metadata": {
        "colab": {
          "base_uri": "https://localhost:8080/"
        },
        "id": "xriobSFhij6l",
        "outputId": "9ae84fc6-c74e-4e30-8843-8e14d99f5099"
      },
      "outputs": [
        {
          "output_type": "stream",
          "name": "stderr",
          "text": [
            "/usr/local/lib/python3.7/dist-packages/ipykernel_launcher.py:3: UserWarning: `Model.fit_generator` is deprecated and will be removed in a future version. Please use `Model.fit`, which supports generators.\n",
            "  This is separate from the ipykernel package so we can avoid doing imports until\n"
          ]
        },
        {
          "output_type": "stream",
          "name": "stdout",
          "text": [
            "Source path =  /content/drive/Othercomputers/My Laptop (1)/Upgrad DS/Deep Learning/Gesture Recognization/Project_data/train ; batch size = 20\n",
            "Epoch 1/25\n",
            "34/34 [==============================] - ETA: 0s - loss: 1.2431 - categorical_accuracy: 0.5152Source path =  /content/drive/Othercomputers/My Laptop (1)/Upgrad DS/Deep Learning/Gesture Recognization/Project_data/val ; batch size = 20\n",
            "\n",
            "Epoch 1: saving model to model_initbase2022-09-1307_50_08.790852/model-00001-1.24310-0.51515-2.88627-0.19000.h5\n",
            "34/34 [==============================] - 803s 24s/step - loss: 1.2431 - categorical_accuracy: 0.5152 - val_loss: 2.8863 - val_categorical_accuracy: 0.1900 - lr: 0.0010\n",
            "Epoch 2/25\n",
            "34/34 [==============================] - ETA: 0s - loss: 0.9173 - categorical_accuracy: 0.6379\n",
            "Epoch 2: saving model to model_initbase2022-09-1307_50_08.790852/model-00002-0.91733-0.63793-2.31522-0.38000.h5\n",
            "34/34 [==============================] - 266s 8s/step - loss: 0.9173 - categorical_accuracy: 0.6379 - val_loss: 2.3152 - val_categorical_accuracy: 0.3800 - lr: 0.0010\n",
            "Epoch 3/25\n",
            "34/34 [==============================] - ETA: 0s - loss: 0.7595 - categorical_accuracy: 0.7103\n",
            "Epoch 3: saving model to model_initbase2022-09-1307_50_08.790852/model-00003-0.75946-0.71029-2.75998-0.23000.h5\n",
            "34/34 [==============================] - 178s 5s/step - loss: 0.7595 - categorical_accuracy: 0.7103 - val_loss: 2.7600 - val_categorical_accuracy: 0.2300 - lr: 0.0010\n",
            "Epoch 4/25\n",
            "34/34 [==============================] - ETA: 0s - loss: 0.5116 - categorical_accuracy: 0.8165\n",
            "Epoch 4: saving model to model_initbase2022-09-1307_50_08.790852/model-00004-0.51162-0.81646-3.26306-0.28000.h5\n",
            "34/34 [==============================] - 267s 8s/step - loss: 0.5116 - categorical_accuracy: 0.8165 - val_loss: 3.2631 - val_categorical_accuracy: 0.2800 - lr: 0.0010\n",
            "Epoch 5/25\n",
            "34/34 [==============================] - ETA: 0s - loss: 0.4276 - categorical_accuracy: 0.8588\n",
            "Epoch 5: saving model to model_initbase2022-09-1307_50_08.790852/model-00005-0.42759-0.85882-3.66376-0.22000.h5\n",
            "34/34 [==============================] - 187s 6s/step - loss: 0.4276 - categorical_accuracy: 0.8588 - val_loss: 3.6638 - val_categorical_accuracy: 0.2200 - lr: 0.0010\n",
            "Epoch 6/25\n",
            "34/34 [==============================] - ETA: 0s - loss: 0.3589 - categorical_accuracy: 0.8827\n",
            "Epoch 6: saving model to model_initbase2022-09-1307_50_08.790852/model-00006-0.35893-0.88269-4.06259-0.29000.h5\n",
            "\n",
            "Epoch 6: ReduceLROnPlateau reducing learning rate to 0.00020000000949949026.\n",
            "34/34 [==============================] - 270s 8s/step - loss: 0.3589 - categorical_accuracy: 0.8827 - val_loss: 4.0626 - val_categorical_accuracy: 0.2900 - lr: 0.0010\n",
            "Epoch 7/25\n",
            "34/34 [==============================] - ETA: 0s - loss: 0.2341 - categorical_accuracy: 0.9250\n",
            "Epoch 7: saving model to model_initbase2022-09-1307_50_08.790852/model-00007-0.23407-0.92500-3.73169-0.28000.h5\n",
            "34/34 [==============================] - 187s 6s/step - loss: 0.2341 - categorical_accuracy: 0.9250 - val_loss: 3.7317 - val_categorical_accuracy: 0.2800 - lr: 2.0000e-04\n",
            "Epoch 8/25\n",
            "34/34 [==============================] - ETA: 0s - loss: 0.1481 - categorical_accuracy: 0.9678\n",
            "Epoch 8: saving model to model_initbase2022-09-1307_50_08.790852/model-00008-0.14814-0.96783-3.69897-0.27000.h5\n",
            "34/34 [==============================] - 268s 8s/step - loss: 0.1481 - categorical_accuracy: 0.9678 - val_loss: 3.6990 - val_categorical_accuracy: 0.2700 - lr: 2.0000e-04\n",
            "Epoch 9/25\n",
            "34/34 [==============================] - ETA: 0s - loss: 0.1494 - categorical_accuracy: 0.9691\n",
            "Epoch 9: saving model to model_initbase2022-09-1307_50_08.790852/model-00009-0.14937-0.96912-2.95792-0.33000.h5\n",
            "34/34 [==============================] - 183s 6s/step - loss: 0.1494 - categorical_accuracy: 0.9691 - val_loss: 2.9579 - val_categorical_accuracy: 0.3300 - lr: 2.0000e-04\n",
            "Epoch 10/25\n",
            "34/34 [==============================] - ETA: 0s - loss: 0.1340 - categorical_accuracy: 0.9670\n",
            "Epoch 10: saving model to model_initbase2022-09-1307_50_08.790852/model-00010-0.13398-0.96702-3.05696-0.25000.h5\n",
            "\n",
            "Epoch 10: ReduceLROnPlateau reducing learning rate to 4.0000001899898055e-05.\n",
            "34/34 [==============================] - 260s 8s/step - loss: 0.1340 - categorical_accuracy: 0.9670 - val_loss: 3.0570 - val_categorical_accuracy: 0.2500 - lr: 2.0000e-04\n",
            "Epoch 11/25\n",
            "34/34 [==============================] - ETA: 0s - loss: 0.1401 - categorical_accuracy: 0.9717\n",
            "Epoch 11: saving model to model_initbase2022-09-1307_50_08.790852/model-00011-0.14005-0.97167-2.13413-0.35000.h5\n",
            "34/34 [==============================] - 182s 6s/step - loss: 0.1401 - categorical_accuracy: 0.9717 - val_loss: 2.1341 - val_categorical_accuracy: 0.3500 - lr: 4.0000e-05\n",
            "Epoch 12/25\n",
            "34/34 [==============================] - ETA: 0s - loss: 0.1142 - categorical_accuracy: 0.9841\n",
            "Epoch 12: saving model to model_initbase2022-09-1307_50_08.790852/model-00012-0.11424-0.98408-1.72091-0.46000.h5\n",
            "34/34 [==============================] - 259s 8s/step - loss: 0.1142 - categorical_accuracy: 0.9841 - val_loss: 1.7209 - val_categorical_accuracy: 0.4600 - lr: 4.0000e-05\n",
            "Epoch 13/25\n",
            "34/34 [==============================] - ETA: 0s - loss: 0.1303 - categorical_accuracy: 0.9727\n",
            "Epoch 13: saving model to model_initbase2022-09-1307_50_08.790852/model-00013-0.13027-0.97268-1.31538-0.60000.h5\n",
            "34/34 [==============================] - 193s 6s/step - loss: 0.1303 - categorical_accuracy: 0.9727 - val_loss: 1.3154 - val_categorical_accuracy: 0.6000 - lr: 4.0000e-05\n",
            "Epoch 14/25\n",
            "34/34 [==============================] - ETA: 0s - loss: 0.1021 - categorical_accuracy: 0.9847\n",
            "Epoch 14: saving model to model_initbase2022-09-1307_50_08.790852/model-00014-0.10215-0.98468-1.13962-0.59000.h5\n",
            "34/34 [==============================] - 252s 8s/step - loss: 0.1021 - categorical_accuracy: 0.9847 - val_loss: 1.1396 - val_categorical_accuracy: 0.5900 - lr: 4.0000e-05\n",
            "Epoch 15/25\n",
            "34/34 [==============================] - ETA: 0s - loss: 0.0990 - categorical_accuracy: 0.9868\n",
            "Epoch 15: saving model to model_initbase2022-09-1307_50_08.790852/model-00015-0.09900-0.98681-1.03354-0.65000.h5\n",
            "34/34 [==============================] - 197s 6s/step - loss: 0.0990 - categorical_accuracy: 0.9868 - val_loss: 1.0335 - val_categorical_accuracy: 0.6500 - lr: 4.0000e-05\n",
            "Epoch 16/25\n",
            "34/34 [==============================] - ETA: 0s - loss: 0.0991 - categorical_accuracy: 0.9874\n",
            "Epoch 16: saving model to model_initbase2022-09-1307_50_08.790852/model-00016-0.09906-0.98741-0.80301-0.72000.h5\n",
            "34/34 [==============================] - 247s 7s/step - loss: 0.0991 - categorical_accuracy: 0.9874 - val_loss: 0.8030 - val_categorical_accuracy: 0.7200 - lr: 4.0000e-05\n",
            "Epoch 17/25\n",
            "34/34 [==============================] - ETA: 0s - loss: 0.1034 - categorical_accuracy: 0.9821\n",
            "Epoch 17: saving model to model_initbase2022-09-1307_50_08.790852/model-00017-0.10339-0.98214-0.68574-0.81000.h5\n",
            "34/34 [==============================] - 198s 6s/step - loss: 0.1034 - categorical_accuracy: 0.9821 - val_loss: 0.6857 - val_categorical_accuracy: 0.8100 - lr: 4.0000e-05\n",
            "Epoch 18/25\n",
            "34/34 [==============================] - ETA: 0s - loss: 0.1034 - categorical_accuracy: 0.9860\n",
            "Epoch 18: saving model to model_initbase2022-09-1307_50_08.790852/model-00018-0.10339-0.98598-0.54235-0.85000.h5\n",
            "34/34 [==============================] - 244s 7s/step - loss: 0.1034 - categorical_accuracy: 0.9860 - val_loss: 0.5424 - val_categorical_accuracy: 0.8500 - lr: 4.0000e-05\n",
            "Epoch 19/25\n",
            "34/34 [==============================] - ETA: 0s - loss: 0.1167 - categorical_accuracy: 0.9753\n",
            "Epoch 19: saving model to model_initbase2022-09-1307_50_08.790852/model-00019-0.11666-0.97531-0.69781-0.76000.h5\n",
            "34/34 [==============================] - 211s 6s/step - loss: 0.1167 - categorical_accuracy: 0.9753 - val_loss: 0.6978 - val_categorical_accuracy: 0.7600 - lr: 4.0000e-05\n",
            "Epoch 20/25\n",
            "34/34 [==============================] - ETA: 0s - loss: 0.0893 - categorical_accuracy: 0.9911\n",
            "Epoch 20: saving model to model_initbase2022-09-1307_50_08.790852/model-00020-0.08930-0.99112-0.54309-0.83000.h5\n",
            "34/34 [==============================] - 229s 7s/step - loss: 0.0893 - categorical_accuracy: 0.9911 - val_loss: 0.5431 - val_categorical_accuracy: 0.8300 - lr: 4.0000e-05\n",
            "Epoch 21/25\n",
            "34/34 [==============================] - ETA: 0s - loss: 0.0835 - categorical_accuracy: 0.9880\n",
            "Epoch 21: saving model to model_initbase2022-09-1307_50_08.790852/model-00021-0.08352-0.98804-0.53029-0.84000.h5\n",
            "34/34 [==============================] - 214s 6s/step - loss: 0.0835 - categorical_accuracy: 0.9880 - val_loss: 0.5303 - val_categorical_accuracy: 0.8400 - lr: 4.0000e-05\n",
            "Epoch 22/25\n",
            "34/34 [==============================] - ETA: 0s - loss: 0.0847 - categorical_accuracy: 0.9897\n",
            "Epoch 22: saving model to model_initbase2022-09-1307_50_08.790852/model-00022-0.08469-0.98971-0.58540-0.82000.h5\n",
            "34/34 [==============================] - 221s 7s/step - loss: 0.0847 - categorical_accuracy: 0.9897 - val_loss: 0.5854 - val_categorical_accuracy: 0.8200 - lr: 4.0000e-05\n",
            "Epoch 23/25\n",
            "34/34 [==============================] - ETA: 0s - loss: 0.0863 - categorical_accuracy: 0.9872\n",
            "Epoch 23: saving model to model_initbase2022-09-1307_50_08.790852/model-00023-0.08629-0.98724-0.48060-0.84000.h5\n",
            "34/34 [==============================] - 221s 7s/step - loss: 0.0863 - categorical_accuracy: 0.9872 - val_loss: 0.4806 - val_categorical_accuracy: 0.8400 - lr: 4.0000e-05\n",
            "Epoch 24/25\n",
            "34/34 [==============================] - ETA: 0s - loss: 0.0767 - categorical_accuracy: 0.9906\n",
            "Epoch 24: saving model to model_initbase2022-09-1307_50_08.790852/model-00024-0.07675-0.99058-0.35772-0.91000.h5\n",
            "34/34 [==============================] - 220s 7s/step - loss: 0.0767 - categorical_accuracy: 0.9906 - val_loss: 0.3577 - val_categorical_accuracy: 0.9100 - lr: 4.0000e-05\n",
            "Epoch 25/25\n",
            "34/34 [==============================] - ETA: 0s - loss: 0.0637 - categorical_accuracy: 0.9955\n",
            "Epoch 25: saving model to model_initbase2022-09-1307_50_08.790852/model-00025-0.06366-0.99550-0.41388-0.87000.h5\n",
            "34/34 [==============================] - 227s 7s/step - loss: 0.0637 - categorical_accuracy: 0.9955 - val_loss: 0.4139 - val_categorical_accuracy: 0.8700 - lr: 4.0000e-05\n"
          ]
        }
      ],
      "source": [
        "history1 = model.fit_generator(train_generator, steps_per_epoch=steps_per_epoch, epochs=num_epochs, verbose=1, \n",
        "                    callbacks=callbacks_list, validation_data=val_generator, \n",
        "                    validation_steps=validation_steps, class_weight=None, workers=1, initial_epoch=0)"
      ]
    },
    {
      "cell_type": "code",
      "execution_count": null,
      "metadata": {
        "id": "kD5BuTprEnNA"
      },
      "outputs": [],
      "source": [
        "import matplotlib.pyplot as plt\n",
        "def plot(history):\n",
        "    fig, axes = plt.subplots(nrows=1, ncols=2, figsize=(15,4))\n",
        "    axes[0].plot(history.history['loss'])   \n",
        "    axes[0].plot(history.history['val_loss'])\n",
        "    axes[0].legend(['loss','val_loss'])\n",
        "\n",
        "    axes[1].plot(history.history['categorical_accuracy'])   \n",
        "    axes[1].plot(history.history['val_categorical_accuracy'])\n",
        "    axes[1].legend(['categorical_accuracy','val_categorical_accuracy'])  "
      ]
    },
    {
      "cell_type": "code",
      "source": [
        "plot(history1)"
      ],
      "metadata": {
        "colab": {
          "base_uri": "https://localhost:8080/",
          "height": 265
        },
        "id": "QZUwmZh42bwU",
        "outputId": "0f3fe3fe-5f71-4beb-9270-310916f7dd08"
      },
      "execution_count": null,
      "outputs": [
        {
          "output_type": "display_data",
          "data": {
            "text/plain": [
              "<Figure size 1080x288 with 2 Axes>"
            ],
            "image/png": "[encoded data removed]"
          },
          "metadata": {
            "needs_background": "light"
          }
        }
      ]
    },
    {
      "cell_type": "markdown",
      "source": [
        "### **CNN + RNN with LSTM model**"
      ],
      "metadata": {
        "id": "QH9DqXpp8gpd"
      }
    },
    {
      "cell_type": "code",
      "execution_count": null,
      "metadata": {
        "id": "70mcCGFuij6h"
      },
      "outputs": [],
      "source": [
        "img_height = 128\n",
        "img_width = 128\n",
        "channels = 3\n",
        "Input_shape = (20, img_height, img_width, channels)\n",
        "model = Sequential()\n",
        "\n",
        "model.add(TimeDistributed(Conv2D(16, (3, 3) , padding='same', activation='relu'),input_shape=Input_shape))\n",
        "model.add(TimeDistributed(BatchNormalization()))\n",
        "model.add(TimeDistributed(MaxPooling2D((2, 2))))\n",
        "\n",
        "model.add(TimeDistributed(Conv2D(32, (3, 3) , padding='same', activation='relu')))\n",
        "model.add(TimeDistributed(BatchNormalization()))\n",
        "model.add(TimeDistributed(MaxPooling2D((2, 2))))\n",
        "        \n",
        "model.add(TimeDistributed(Conv2D(64, (3, 3) , padding='same', activation='relu')))\n",
        "model.add(TimeDistributed(BatchNormalization()))\n",
        "model.add(TimeDistributed(MaxPooling2D((2, 2))))\n",
        "\n",
        "model.add(TimeDistributed(Conv2D(128, (3, 3) , padding='same', activation='relu')))\n",
        "model.add(TimeDistributed(BatchNormalization()))\n",
        "model.add(TimeDistributed(MaxPooling2D((2, 2))))\n",
        "\n",
        "model.add(TimeDistributed(Conv2D(256, (3, 3) , padding='same', activation='relu')))\n",
        "model.add(TimeDistributed(BatchNormalization()))\n",
        "model.add(TimeDistributed(MaxPooling2D((2, 2))))\n",
        "\n",
        "model.add(TimeDistributed(Flatten()))\n",
        "\n",
        "\n",
        "model.add(LSTM(128))\n",
        "model.add(Dropout(0.25))\n",
        "\n",
        "model.add(Dense(128,activation='relu'))\n",
        "model.add(Dropout(0.25))\n",
        "model.add(Dense(5,activation='softmax'))"
      ]
    },
    {
      "cell_type": "markdown",
      "metadata": {
        "id": "tvB-X3p29sAh"
      },
      "source": [
        "Now that you have written the model, the next step is to `compile` the model. When you print the `summary` of the model, you'll see the total number of parameters you have to train."
      ]
    },
    {
      "cell_type": "code",
      "execution_count": null,
      "metadata": {
        "colab": {
          "base_uri": "https://localhost:8080/"
        },
        "outputId": "c8f31f91-96a4-4846-caba-75a564e5ad9e",
        "scrolled": true,
        "id": "2NOZ41yi6viE"
      },
      "outputs": [
        {
          "output_type": "stream",
          "name": "stdout",
          "text": [
            "Model: \"sequential_1\"\n",
            "_________________________________________________________________\n",
            " Layer (type)                Output Shape              Param #   \n",
            "=================================================================\n",
            " time_distributed_16 (TimeDi  (None, 20, 128, 128, 16)  448      \n",
            " stributed)                                                      \n",
            "                                                                 \n",
            " time_distributed_17 (TimeDi  (None, 20, 128, 128, 16)  64       \n",
            " stributed)                                                      \n",
            "                                                                 \n",
            " time_distributed_18 (TimeDi  (None, 20, 64, 64, 16)   0         \n",
            " stributed)                                                      \n",
            "                                                                 \n",
            " time_distributed_19 (TimeDi  (None, 20, 64, 64, 32)   4640      \n",
            " stributed)                                                      \n",
            "                                                                 \n",
            " time_distributed_20 (TimeDi  (None, 20, 64, 64, 32)   128       \n",
            " stributed)                                                      \n",
            "                                                                 \n",
            " time_distributed_21 (TimeDi  (None, 20, 32, 32, 32)   0         \n",
            " stributed)                                                      \n",
            "                                                                 \n",
            " time_distributed_22 (TimeDi  (None, 20, 32, 32, 64)   18496     \n",
            " stributed)                                                      \n",
            "                                                                 \n",
            " time_distributed_23 (TimeDi  (None, 20, 32, 32, 64)   256       \n",
            " stributed)                                                      \n",
            "                                                                 \n",
            " time_distributed_24 (TimeDi  (None, 20, 16, 16, 64)   0         \n",
            " stributed)                                                      \n",
            "                                                                 \n",
            " time_distributed_25 (TimeDi  (None, 20, 16, 16, 128)  73856     \n",
            " stributed)                                                      \n",
            "                                                                 \n",
            " time_distributed_26 (TimeDi  (None, 20, 16, 16, 128)  512       \n",
            " stributed)                                                      \n",
            "                                                                 \n",
            " time_distributed_27 (TimeDi  (None, 20, 8, 8, 128)    0         \n",
            " stributed)                                                      \n",
            "                                                                 \n",
            " time_distributed_28 (TimeDi  (None, 20, 8, 8, 256)    295168    \n",
            " stributed)                                                      \n",
            "                                                                 \n",
            " time_distributed_29 (TimeDi  (None, 20, 8, 8, 256)    1024      \n",
            " stributed)                                                      \n",
            "                                                                 \n",
            " time_distributed_30 (TimeDi  (None, 20, 4, 4, 256)    0         \n",
            " stributed)                                                      \n",
            "                                                                 \n",
            " time_distributed_31 (TimeDi  (None, 20, 4096)         0         \n",
            " stributed)                                                      \n",
            "                                                                 \n",
            " lstm_1 (LSTM)               (None, 128)               2163200   \n",
            "                                                                 \n",
            " dropout_2 (Dropout)         (None, 128)               0         \n",
            "                                                                 \n",
            " dense_2 (Dense)             (None, 128)               16512     \n",
            "                                                                 \n",
            " dropout_3 (Dropout)         (None, 128)               0         \n",
            "                                                                 \n",
            " dense_3 (Dense)             (None, 5)                 645       \n",
            "                                                                 \n",
            "=================================================================\n",
            "Total params: 2,574,949\n",
            "Trainable params: 2,573,957\n",
            "Non-trainable params: 992\n",
            "_________________________________________________________________\n",
            "None\n"
          ]
        },
        {
          "output_type": "stream",
          "name": "stderr",
          "text": [
            "/usr/local/lib/python3.7/dist-packages/keras/optimizer_v2/adam.py:105: UserWarning: The `lr` argument is deprecated, use `learning_rate` instead.\n",
            "  super(Adam, self).__init__(name, **kwargs)\n"
          ]
        }
      ],
      "source": [
        "\n",
        "optimiser = tf.keras.optimizers.Adam(lr=0.001)#write your optimizer\n",
        "model.compile(optimizer=optimiser, loss='categorical_crossentropy', metrics=['categorical_accuracy'])\n",
        "print (model.summary())"
      ]
    },
    {
      "cell_type": "markdown",
      "metadata": {
        "id": "ajwDCW119wZK"
      },
      "source": [
        "Let us create the `train_generator` and the `val_generator` which will be used in `.fit_generator`."
      ]
    },
    {
      "cell_type": "code",
      "source": [
        "train_generator = generator(train_path, train_doc, batch_size, img_height, img_width,channels)\n",
        "val_generator = generator(val_path, val_doc, batch_size, img_height, img_width,channels)\n",
        "\n",
        "model_name = 'model_init' + 'cnn_LSTM' + str(curr_dt_time).replace(' ','').replace(':','_') + '/'\n",
        "    \n",
        "if not os.path.exists(model_name):\n",
        "    os.mkdir(model_name)\n",
        "        \n",
        "filepath =  model_name + 'model-{epoch:05d}-{loss:.5f}-{categorical_accuracy:.5f}-{val_loss:.5f}-{val_categorical_accuracy:.5f}.h5'\n",
        "\n",
        "checkpoint = ModelCheckpoint(filepath, monitor='val_loss', verbose=1, save_best_only=False, save_weights_only=False, mode='auto', period=1)\n",
        "\n",
        "LR =  ReduceLROnPlateau(monitor = \"val_loss\", factor = 0.1, patience = 10,\n",
        "  verbose = 0, mode = \"auto\", epsilon = 1e-04, cooldown = 0,\n",
        "  min_lr = 0)# write the REducelronplateau code here\n",
        "callbacks_list = [checkpoint, LR]\n",
        "# The `steps_per_epoch` and `validation_steps` are used by `fit_generator` to decide the number of next() calls it need to make.\n",
        "if (num_train_sequences%batch_size) == 0:\n",
        "    steps_per_epoch = int(num_train_sequences/batch_size)\n",
        "else:\n",
        "    steps_per_epoch = (num_train_sequences//batch_size) + 1\n",
        "\n",
        "if (num_val_sequences%batch_size) == 0:\n",
        "    validation_steps = int(num_val_sequences/batch_size)\n",
        "else:\n",
        "    validation_steps = (num_val_sequences//batch_size) + 1"
      ],
      "metadata": {
        "id": "bH040XEG67Bx"
      },
      "execution_count": null,
      "outputs": []
    },
    {
      "cell_type": "markdown",
      "metadata": {
        "id": "AWzgCtqL989g"
      },
      "source": [
        "Let us now fit the model. This will start training the model and with the help of the checkpoints, you'll be able to save the model at the end of each epoch."
      ]
    },
    {
      "cell_type": "code",
      "execution_count": null,
      "metadata": {
        "colab": {
          "base_uri": "https://localhost:8080/"
        },
        "outputId": "8554a28a-6089-4926-c6be-8c42a7c4b371",
        "id": "_5SH2h0L7Hfw"
      },
      "outputs": [
        {
          "output_type": "stream",
          "name": "stderr",
          "text": [
            "/usr/local/lib/python3.7/dist-packages/ipykernel_launcher.py:3: UserWarning: `Model.fit_generator` is deprecated and will be removed in a future version. Please use `Model.fit`, which supports generators.\n",
            "  This is separate from the ipykernel package so we can avoid doing imports until\n"
          ]
        },
        {
          "output_type": "stream",
          "name": "stdout",
          "text": [
            "Epoch 1/20\n",
            "34/34 [==============================] - ETA: 0s - loss: 0.0679 - categorical_accuracy: 0.9854\n",
            "Epoch 1: saving model to model_initcnn_LSTM2022-09-1315_08_34.185409/model-00001-0.06793-0.98542-0.54571-0.81000.h5\n",
            "34/34 [==============================] - 255s 8s/step - loss: 0.0679 - categorical_accuracy: 0.9854 - val_loss: 0.5457 - val_categorical_accuracy: 0.8100 - lr: 1.0000e-04\n",
            "Epoch 2/20\n",
            "34/34 [==============================] - ETA: 0s - loss: 0.0632 - categorical_accuracy: 0.9899\n",
            "Epoch 2: saving model to model_initcnn_LSTM2022-09-1315_08_34.185409/model-00002-0.06319-0.98986-0.48136-0.83000.h5\n",
            "34/34 [==============================] - 260s 8s/step - loss: 0.0632 - categorical_accuracy: 0.9899 - val_loss: 0.4814 - val_categorical_accuracy: 0.8300 - lr: 1.0000e-04\n",
            "Epoch 3/20\n",
            "34/34 [==============================] - ETA: 0s - loss: 0.0552 - categorical_accuracy: 0.9870\n",
            "Epoch 3: saving model to model_initcnn_LSTM2022-09-1315_08_34.185409/model-00003-0.05518-0.98704-0.49718-0.83000.h5\n",
            "34/34 [==============================] - 246s 7s/step - loss: 0.0552 - categorical_accuracy: 0.9870 - val_loss: 0.4972 - val_categorical_accuracy: 0.8300 - lr: 1.0000e-04\n",
            "Epoch 4/20\n",
            "34/34 [==============================] - ETA: 0s - loss: 0.0570 - categorical_accuracy: 0.9884\n",
            "Epoch 4: saving model to model_initcnn_LSTM2022-09-1315_08_34.185409/model-00004-0.05696-0.98840-0.48884-0.82000.h5\n",
            "34/34 [==============================] - 248s 7s/step - loss: 0.0570 - categorical_accuracy: 0.9884 - val_loss: 0.4888 - val_categorical_accuracy: 0.8200 - lr: 1.0000e-04\n",
            "Epoch 5/20\n",
            "34/34 [==============================] - ETA: 0s - loss: 0.0577 - categorical_accuracy: 0.9909\n",
            "Epoch 5: saving model to model_initcnn_LSTM2022-09-1315_08_34.185409/model-00005-0.05774-0.99086-0.53565-0.81000.h5\n",
            "34/34 [==============================] - 251s 8s/step - loss: 0.0577 - categorical_accuracy: 0.9909 - val_loss: 0.5357 - val_categorical_accuracy: 0.8100 - lr: 1.0000e-04\n",
            "Epoch 6/20\n",
            "34/34 [==============================] - ETA: 0s - loss: 0.0528 - categorical_accuracy: 0.9916\n",
            "Epoch 6: saving model to model_initcnn_LSTM2022-09-1315_08_34.185409/model-00006-0.05276-0.99163-0.48908-0.81000.h5\n",
            "34/34 [==============================] - 244s 7s/step - loss: 0.0528 - categorical_accuracy: 0.9916 - val_loss: 0.4891 - val_categorical_accuracy: 0.8100 - lr: 1.0000e-04\n",
            "Epoch 7/20\n",
            "34/34 [==============================] - ETA: 0s - loss: 0.0468 - categorical_accuracy: 0.9922\n",
            "Epoch 7: saving model to model_initcnn_LSTM2022-09-1315_08_34.185409/model-00007-0.04683-0.99223-0.65374-0.80000.h5\n",
            "34/34 [==============================] - 257s 8s/step - loss: 0.0468 - categorical_accuracy: 0.9922 - val_loss: 0.6537 - val_categorical_accuracy: 0.8000 - lr: 1.0000e-04\n",
            "Epoch 8/20\n",
            "34/34 [==============================] - ETA: 0s - loss: 0.0386 - categorical_accuracy: 0.9938\n",
            "Epoch 8: saving model to model_initcnn_LSTM2022-09-1315_08_34.185409/model-00008-0.03860-0.99383-0.62649-0.81000.h5\n",
            "34/34 [==============================] - 234s 7s/step - loss: 0.0386 - categorical_accuracy: 0.9938 - val_loss: 0.6265 - val_categorical_accuracy: 0.8100 - lr: 1.0000e-04\n",
            "Epoch 9/20\n",
            "34/34 [==============================] - ETA: 0s - loss: 0.0405 - categorical_accuracy: 0.9935\n",
            "Epoch 9: saving model to model_initcnn_LSTM2022-09-1315_08_34.185409/model-00009-0.04046-0.99353-0.58812-0.78000.h5\n",
            "34/34 [==============================] - 262s 8s/step - loss: 0.0405 - categorical_accuracy: 0.9935 - val_loss: 0.5881 - val_categorical_accuracy: 0.7800 - lr: 1.0000e-04\n",
            "Epoch 10/20\n",
            "34/34 [==============================] - ETA: 0s - loss: 0.0368 - categorical_accuracy: 0.9936\n",
            "Epoch 10: saving model to model_initcnn_LSTM2022-09-1315_08_34.185409/model-00010-0.03681-0.99362-0.72289-0.78000.h5\n",
            "34/34 [==============================] - 230s 7s/step - loss: 0.0368 - categorical_accuracy: 0.9936 - val_loss: 0.7229 - val_categorical_accuracy: 0.7800 - lr: 1.0000e-04\n",
            "Epoch 11/20\n",
            "34/34 [==============================] - ETA: 0s - loss: 0.0390 - categorical_accuracy: 0.9927\n",
            "Epoch 11: saving model to model_initcnn_LSTM2022-09-1315_08_34.185409/model-00011-0.03902-0.99265-0.60763-0.79000.h5\n",
            "34/34 [==============================] - 263s 8s/step - loss: 0.0390 - categorical_accuracy: 0.9927 - val_loss: 0.6076 - val_categorical_accuracy: 0.7900 - lr: 1.0000e-04\n",
            "Epoch 12/20\n",
            "34/34 [==============================] - ETA: 0s - loss: 0.0319 - categorical_accuracy: 0.9974\n",
            "Epoch 12: saving model to model_initcnn_LSTM2022-09-1315_08_34.185409/model-00012-0.03190-0.99736-0.56741-0.80000.h5\n",
            "34/34 [==============================] - 222s 7s/step - loss: 0.0319 - categorical_accuracy: 0.9974 - val_loss: 0.5674 - val_categorical_accuracy: 0.8000 - lr: 1.0000e-04\n",
            "Epoch 13/20\n",
            "34/34 [==============================] - ETA: 0s - loss: 0.0349 - categorical_accuracy: 0.9928\n",
            "Epoch 13: saving model to model_initcnn_LSTM2022-09-1315_08_34.185409/model-00013-0.03493-0.99285-0.53130-0.80000.h5\n",
            "34/34 [==============================] - 266s 8s/step - loss: 0.0349 - categorical_accuracy: 0.9928 - val_loss: 0.5313 - val_categorical_accuracy: 0.8000 - lr: 1.0000e-05\n",
            "Epoch 14/20\n",
            "34/34 [==============================] - ETA: 0s - loss: 0.0336 - categorical_accuracy: 0.9932\n",
            "Epoch 14: saving model to model_initcnn_LSTM2022-09-1315_08_34.185409/model-00014-0.03359-0.99317-0.51057-0.82000.h5\n",
            "34/34 [==============================] - 219s 7s/step - loss: 0.0336 - categorical_accuracy: 0.9932 - val_loss: 0.5106 - val_categorical_accuracy: 0.8200 - lr: 1.0000e-05\n",
            "Epoch 15/20\n",
            "34/34 [==============================] - ETA: 0s - loss: 0.0298 - categorical_accuracy: 0.9950\n",
            "Epoch 15: saving model to model_initcnn_LSTM2022-09-1315_08_34.185409/model-00015-0.02979-0.99502-0.83210-0.72000.h5\n",
            "34/34 [==============================] - 279s 8s/step - loss: 0.0298 - categorical_accuracy: 0.9950 - val_loss: 0.8321 - val_categorical_accuracy: 0.7200 - lr: 1.0000e-05\n",
            "Epoch 16/20\n",
            "34/34 [==============================] - ETA: 0s - loss: 0.0382 - categorical_accuracy: 0.9929\n",
            "Epoch 16: saving model to model_initcnn_LSTM2022-09-1315_08_34.185409/model-00016-0.03819-0.99292-0.62109-0.79000.h5\n",
            "34/34 [==============================] - 212s 6s/step - loss: 0.0382 - categorical_accuracy: 0.9929 - val_loss: 0.6211 - val_categorical_accuracy: 0.7900 - lr: 1.0000e-05\n",
            "Epoch 17/20\n",
            "34/34 [==============================] - ETA: 0s - loss: 0.0277 - categorical_accuracy: 0.9990\n",
            "Epoch 17: saving model to model_initcnn_LSTM2022-09-1315_08_34.185409/model-00017-0.02769-0.99903-0.53963-0.80000.h5\n",
            "34/34 [==============================] - 284s 9s/step - loss: 0.0277 - categorical_accuracy: 0.9990 - val_loss: 0.5396 - val_categorical_accuracy: 0.8000 - lr: 1.0000e-05\n",
            "Epoch 18/20\n",
            "34/34 [==============================] - ETA: 0s - loss: 0.0396 - categorical_accuracy: 0.9926\n",
            "Epoch 18: saving model to model_initcnn_LSTM2022-09-1315_08_34.185409/model-00018-0.03960-0.99265-0.36795-0.85000.h5\n",
            "34/34 [==============================] - 203s 6s/step - loss: 0.0396 - categorical_accuracy: 0.9926 - val_loss: 0.3679 - val_categorical_accuracy: 0.8500 - lr: 1.0000e-05\n",
            "Epoch 19/20\n",
            "34/34 [==============================] - ETA: 0s - loss: 0.0313 - categorical_accuracy: 0.9943\n",
            "Epoch 19: saving model to model_initcnn_LSTM2022-09-1315_08_34.185409/model-00019-0.03135-0.99432-0.77433-0.72000.h5\n",
            "34/34 [==============================] - 291s 9s/step - loss: 0.0313 - categorical_accuracy: 0.9943 - val_loss: 0.7743 - val_categorical_accuracy: 0.7200 - lr: 1.0000e-05\n",
            "Epoch 20/20\n",
            "34/34 [==============================] - ETA: 0s - loss: 0.0316 - categorical_accuracy: 0.9971\n",
            "Epoch 20: saving model to model_initcnn_LSTM2022-09-1315_08_34.185409/model-00020-0.03161-0.99706-0.56735-0.82000.h5\n",
            "34/34 [==============================] - 201s 6s/step - loss: 0.0316 - categorical_accuracy: 0.9971 - val_loss: 0.5673 - val_categorical_accuracy: 0.8200 - lr: 1.0000e-05\n"
          ]
        }
      ],
      "source": [
        "history_1 = model.fit_generator(train_generator, steps_per_epoch=steps_per_epoch, epochs=20, verbose=1, \n",
        "                    callbacks=callbacks_list, validation_data=val_generator, \n",
        "                    validation_steps=validation_steps, class_weight=None, workers=1, initial_epoch=0)"
      ]
    },
    {
      "cell_type": "code",
      "source": [
        "plot(history_1)"
      ],
      "metadata": {
        "colab": {
          "base_uri": "https://localhost:8080/",
          "height": 243
        },
        "id": "29_xsToT5Srd",
        "outputId": "9b24ed17-c39a-44de-cbf7-85dc63622986"
      },
      "execution_count": null,
      "outputs": [
        {
          "output_type": "display_data",
          "data": {
            "text/plain": [
              "<Figure size 1080x288 with 2 Axes>"
            ],
            "image/png": "[encoded data removed]"
          },
          "metadata": {
            "needs_background": "light"
          }
        }
      ]
    },
    {
      "cell_type": "markdown",
      "source": [
        "###**CNN + RNN with GRU Model**"
      ],
      "metadata": {
        "id": "aRs2q9pC-WFZ"
      }
    },
    {
      "cell_type": "code",
      "source": [],
      "metadata": {
        "id": "k2ocnFmL-VXs"
      },
      "execution_count": null,
      "outputs": []
    },
    {
      "cell_type": "code",
      "execution_count": null,
      "metadata": {
        "id": "B6s2xcmv-nnL"
      },
      "outputs": [],
      "source": [
        "img_height = 128\n",
        "img_width = 128\n",
        "channels = 3\n",
        "Input_shape = (20, img_height, img_width, channels)\n",
        "model = Sequential()\n",
        "\n",
        "model.add(TimeDistributed(Conv2D(16, (3, 3) , padding='same', activation='relu'),input_shape=Input_shape))\n",
        "model.add(TimeDistributed(BatchNormalization()))\n",
        "model.add(TimeDistributed(MaxPooling2D((2, 2))))\n",
        "\n",
        "model.add(TimeDistributed(Conv2D(32, (3, 3) , padding='same', activation='relu')))\n",
        "model.add(TimeDistributed(BatchNormalization()))\n",
        "model.add(TimeDistributed(MaxPooling2D((2, 2))))\n",
        "\n",
        "model.add(TimeDistributed(Conv2D(64, (3, 3) , padding='same', activation='relu')))\n",
        "model.add(TimeDistributed(BatchNormalization()))\n",
        "model.add(TimeDistributed(MaxPooling2D((2, 2))))\n",
        "\n",
        "model.add(TimeDistributed(Conv2D(128, (3, 3) , padding='same', activation='relu')))\n",
        "model.add(TimeDistributed(BatchNormalization()))\n",
        "model.add(TimeDistributed(MaxPooling2D((2, 2))))\n",
        "\n",
        "\n",
        "model.add(TimeDistributed(Flatten()))\n",
        "\n",
        "\n",
        "model.add(GRU(128))\n",
        "model.add(Dropout(0.25))\n",
        "\n",
        "model.add(Dense(128,activation='relu'))\n",
        "model.add(Dropout(0.25))\n",
        "\n",
        "model.add(Dense(5, activation='softmax'))"
      ]
    },
    {
      "cell_type": "markdown",
      "metadata": {
        "id": "M2s9fQay-nnS"
      },
      "source": [
        "Now that you have written the model, the next step is to `compile` the model. When you print the `summary` of the model, you'll see the total number of parameters you have to train."
      ]
    },
    {
      "cell_type": "code",
      "execution_count": null,
      "metadata": {
        "colab": {
          "base_uri": "https://localhost:8080/"
        },
        "outputId": "59cfbaca-1578-44ea-d2ba-f6a839432113",
        "scrolled": true,
        "id": "QMOU3Y2X-nnS"
      },
      "outputs": [
        {
          "output_type": "stream",
          "name": "stdout",
          "text": [
            "Model: \"sequential\"\n",
            "_________________________________________________________________\n",
            " Layer (type)                Output Shape              Param #   \n",
            "=================================================================\n",
            " time_distributed (TimeDistr  (None, 20, 128, 128, 16)  448      \n",
            " ibuted)                                                         \n",
            "                                                                 \n",
            " time_distributed_1 (TimeDis  (None, 20, 128, 128, 16)  64       \n",
            " tributed)                                                       \n",
            "                                                                 \n",
            " time_distributed_2 (TimeDis  (None, 20, 64, 64, 16)   0         \n",
            " tributed)                                                       \n",
            "                                                                 \n",
            " time_distributed_3 (TimeDis  (None, 20, 64, 64, 32)   4640      \n",
            " tributed)                                                       \n",
            "                                                                 \n",
            " time_distributed_4 (TimeDis  (None, 20, 64, 64, 32)   128       \n",
            " tributed)                                                       \n",
            "                                                                 \n",
            " time_distributed_5 (TimeDis  (None, 20, 32, 32, 32)   0         \n",
            " tributed)                                                       \n",
            "                                                                 \n",
            " time_distributed_6 (TimeDis  (None, 20, 32, 32, 64)   18496     \n",
            " tributed)                                                       \n",
            "                                                                 \n",
            " time_distributed_7 (TimeDis  (None, 20, 32, 32, 64)   256       \n",
            " tributed)                                                       \n",
            "                                                                 \n",
            " time_distributed_8 (TimeDis  (None, 20, 16, 16, 64)   0         \n",
            " tributed)                                                       \n",
            "                                                                 \n",
            " time_distributed_9 (TimeDis  (None, 20, 16, 16, 128)  73856     \n",
            " tributed)                                                       \n",
            "                                                                 \n",
            " time_distributed_10 (TimeDi  (None, 20, 16, 16, 128)  512       \n",
            " stributed)                                                      \n",
            "                                                                 \n",
            " time_distributed_11 (TimeDi  (None, 20, 8, 8, 128)    0         \n",
            " stributed)                                                      \n",
            "                                                                 \n",
            " time_distributed_12 (TimeDi  (None, 20, 8192)         0         \n",
            " stributed)                                                      \n",
            "                                                                 \n",
            " gru (GRU)                   (None, 128)               3195648   \n",
            "                                                                 \n",
            " dropout (Dropout)           (None, 128)               0         \n",
            "                                                                 \n",
            " dense (Dense)               (None, 128)               16512     \n",
            "                                                                 \n",
            " dropout_1 (Dropout)         (None, 128)               0         \n",
            "                                                                 \n",
            " dense_1 (Dense)             (None, 5)                 645       \n",
            "                                                                 \n",
            "=================================================================\n",
            "Total params: 3,311,205\n",
            "Trainable params: 3,310,725\n",
            "Non-trainable params: 480\n",
            "_________________________________________________________________\n",
            "None\n"
          ]
        },
        {
          "output_type": "stream",
          "name": "stderr",
          "text": [
            "/usr/local/lib/python3.7/dist-packages/keras/optimizer_v2/adam.py:105: UserWarning: The `lr` argument is deprecated, use `learning_rate` instead.\n",
            "  super(Adam, self).__init__(name, **kwargs)\n"
          ]
        }
      ],
      "source": [
        "\n",
        "optimiser = tf.keras.optimizers.Adam(lr=0.001)#write your optimizer\n",
        "model.compile(optimizer=optimiser, loss='categorical_crossentropy', metrics=['categorical_accuracy'])\n",
        "print (model.summary())"
      ]
    },
    {
      "cell_type": "markdown",
      "metadata": {
        "id": "UgHaISh_-tv9"
      },
      "source": [
        "Let us create the `train_generator` and the `val_generator` which will be used in `.fit_generator`."
      ]
    },
    {
      "cell_type": "code",
      "source": [
        "train_generator = generator(train_path, train_doc, batch_size, img_height, img_width,channels)\n",
        "val_generator = generator(val_path, val_doc, batch_size, img_height, img_width,channels)\n",
        "\n",
        "model_name = 'model_init' + 'RNN_GRU' + str(curr_dt_time).replace(' ','').replace(':','_') + '/'\n",
        "    \n",
        "if not os.path.exists(model_name):\n",
        "    os.mkdir(model_name)\n",
        "        \n",
        "filepath =  model_name + 'model-{epoch:05d}-{loss:.5f}-{categorical_accuracy:.5f}-{val_loss:.5f}-{val_categorical_accuracy:.5f}.h5'\n",
        "\n",
        "checkpoint = ModelCheckpoint(filepath, monitor='val_loss', verbose=1, save_best_only=False, save_weights_only=False, mode='auto', period=1)\n",
        "\n",
        "LR =  ReduceLROnPlateau(monitor = \"val_loss\", factor = 0.1, patience = 10,\n",
        "  verbose = 0, mode = \"auto\", epsilon = 1e-04, cooldown = 0,\n",
        "  min_lr = 0)# write the REducelronplateau code here\n",
        "callbacks_list = [checkpoint, LR]\n",
        "#The `steps_per_epoch` and `validation_steps` are used by `fit_generator` to decide the number of next() calls it need to make.\n",
        "if (num_train_sequences%batch_size) == 0:\n",
        "    steps_per_epoch = int(num_train_sequences/batch_size)\n",
        "else:\n",
        "    steps_per_epoch = (num_train_sequences//batch_size) + 1\n",
        "\n",
        "if (num_val_sequences%batch_size) == 0:\n",
        "    validation_steps = int(num_val_sequences/batch_size)\n",
        "else:\n",
        "    validation_steps = (num_val_sequences//batch_size) + 1"
      ],
      "metadata": {
        "id": "qOu8DzOW7KlA"
      },
      "execution_count": null,
      "outputs": []
    },
    {
      "cell_type": "markdown",
      "source": [
        "Let us now fit the model. This will start training the model and with the help of the checkpoints, you'll be able to save the model at the end of each epoch."
      ],
      "metadata": {
        "id": "bSQc0bG3_fjC"
      }
    },
    {
      "cell_type": "code",
      "execution_count": null,
      "metadata": {
        "colab": {
          "base_uri": "https://localhost:8080/"
        },
        "outputId": "3b9a889f-a604-4701-871f-cbd14b4e6894",
        "id": "_8WjYCUx7p6S"
      },
      "outputs": [
        {
          "output_type": "stream",
          "name": "stderr",
          "text": [
            "/usr/local/lib/python3.7/dist-packages/ipykernel_launcher.py:3: UserWarning: `Model.fit_generator` is deprecated and will be removed in a future version. Please use `Model.fit`, which supports generators.\n",
            "  This is separate from the ipykernel package so we can avoid doing imports until\n"
          ]
        },
        {
          "output_type": "stream",
          "name": "stdout",
          "text": [
            "Epoch 1/30\n",
            "34/34 [==============================] - ETA: 0s - loss: 0.0746 - categorical_accuracy: 0.9854\n",
            "Epoch 1: saving model to model_initRNN_GRU2022-09-1315_20_22.398211/model-00001-0.07462-0.98542-0.60825-0.79000.h5\n",
            "34/34 [==============================] - 198s 6s/step - loss: 0.0746 - categorical_accuracy: 0.9854 - val_loss: 0.6083 - val_categorical_accuracy: 0.7900 - lr: 1.0000e-04\n",
            "Epoch 2/30\n",
            "34/34 [==============================] - ETA: 0s - loss: 0.0682 - categorical_accuracy: 0.9876\n",
            "Epoch 2: saving model to model_initRNN_GRU2022-09-1315_20_22.398211/model-00002-0.06823-0.98761-0.60241-0.80000.h5\n",
            "34/34 [==============================] - 221s 7s/step - loss: 0.0682 - categorical_accuracy: 0.9876 - val_loss: 0.6024 - val_categorical_accuracy: 0.8000 - lr: 1.0000e-04\n",
            "Epoch 3/30\n",
            "34/34 [==============================] - ETA: 0s - loss: 0.0689 - categorical_accuracy: 0.9823\n",
            "Epoch 3: saving model to model_initRNN_GRU2022-09-1315_20_22.398211/model-00003-0.06892-0.98233-0.45038-0.83000.h5\n",
            "34/34 [==============================] - 204s 6s/step - loss: 0.0689 - categorical_accuracy: 0.9823 - val_loss: 0.4504 - val_categorical_accuracy: 0.8300 - lr: 1.0000e-04\n",
            "Epoch 4/30\n",
            "34/34 [==============================] - ETA: 0s - loss: 0.0616 - categorical_accuracy: 0.9838\n",
            "Epoch 4: saving model to model_initRNN_GRU2022-09-1315_20_22.398211/model-00004-0.06156-0.98376-0.42452-0.88000.h5\n",
            "34/34 [==============================] - 212s 6s/step - loss: 0.0616 - categorical_accuracy: 0.9838 - val_loss: 0.4245 - val_categorical_accuracy: 0.8800 - lr: 1.0000e-04\n",
            "Epoch 5/30\n",
            "34/34 [==============================] - ETA: 0s - loss: 0.0630 - categorical_accuracy: 0.9863\n",
            "Epoch 5: saving model to model_initRNN_GRU2022-09-1315_20_22.398211/model-00005-0.06303-0.98629-0.60156-0.82000.h5\n",
            "34/34 [==============================] - 210s 6s/step - loss: 0.0630 - categorical_accuracy: 0.9863 - val_loss: 0.6016 - val_categorical_accuracy: 0.8200 - lr: 1.0000e-04\n",
            "Epoch 6/30\n",
            "34/34 [==============================] - ETA: 0s - loss: 0.0537 - categorical_accuracy: 0.9904\n",
            "Epoch 6: saving model to model_initRNN_GRU2022-09-1315_20_22.398211/model-00006-0.05371-0.99043-0.45505-0.85000.h5\n",
            "34/34 [==============================] - 215s 6s/step - loss: 0.0537 - categorical_accuracy: 0.9904 - val_loss: 0.4550 - val_categorical_accuracy: 0.8500 - lr: 1.0000e-04\n",
            "Epoch 7/30\n",
            "34/34 [==============================] - ETA: 0s - loss: 0.0598 - categorical_accuracy: 0.9878\n",
            "Epoch 7: saving model to model_initRNN_GRU2022-09-1315_20_22.398211/model-00007-0.05985-0.98779-0.57256-0.82000.h5\n",
            "34/34 [==============================] - 224s 7s/step - loss: 0.0598 - categorical_accuracy: 0.9878 - val_loss: 0.5726 - val_categorical_accuracy: 0.8200 - lr: 1.0000e-04\n",
            "Epoch 8/30\n",
            "34/34 [==============================] - ETA: 0s - loss: 0.0488 - categorical_accuracy: 0.9901\n",
            "Epoch 8: saving model to model_initRNN_GRU2022-09-1315_20_22.398211/model-00008-0.04882-0.99012-0.40254-0.87000.h5\n",
            "34/34 [==============================] - 199s 6s/step - loss: 0.0488 - categorical_accuracy: 0.9901 - val_loss: 0.4025 - val_categorical_accuracy: 0.8700 - lr: 1.0000e-04\n",
            "Epoch 9/30\n",
            "34/34 [==============================] - ETA: 0s - loss: 0.0487 - categorical_accuracy: 0.9946\n",
            "Epoch 9: saving model to model_initRNN_GRU2022-09-1315_20_22.398211/model-00009-0.04873-0.99461-0.53292-0.85000.h5\n",
            "34/34 [==============================] - 218s 7s/step - loss: 0.0487 - categorical_accuracy: 0.9946 - val_loss: 0.5329 - val_categorical_accuracy: 0.8500 - lr: 1.0000e-04\n",
            "Epoch 10/30\n",
            "34/34 [==============================] - ETA: 0s - loss: 0.0389 - categorical_accuracy: 0.9974\n",
            "Epoch 10: saving model to model_initRNN_GRU2022-09-1315_20_22.398211/model-00010-0.03893-0.99745-0.49008-0.85000.h5\n",
            "34/34 [==============================] - 196s 6s/step - loss: 0.0389 - categorical_accuracy: 0.9974 - val_loss: 0.4901 - val_categorical_accuracy: 0.8500 - lr: 1.0000e-04\n",
            "Epoch 11/30\n",
            "34/34 [==============================] - ETA: 0s - loss: 0.0452 - categorical_accuracy: 0.9937\n",
            "Epoch 11: saving model to model_initRNN_GRU2022-09-1315_20_22.398211/model-00011-0.04520-0.99370-0.56172-0.82000.h5\n",
            "34/34 [==============================] - 224s 7s/step - loss: 0.0452 - categorical_accuracy: 0.9937 - val_loss: 0.5617 - val_categorical_accuracy: 0.8200 - lr: 1.0000e-04\n",
            "Epoch 12/30\n",
            "34/34 [==============================] - ETA: 0s - loss: 0.0492 - categorical_accuracy: 0.9881\n",
            "Epoch 12: saving model to model_initRNN_GRU2022-09-1315_20_22.398211/model-00012-0.04920-0.98813-0.56804-0.84000.h5\n",
            "34/34 [==============================] - 187s 6s/step - loss: 0.0492 - categorical_accuracy: 0.9881 - val_loss: 0.5680 - val_categorical_accuracy: 0.8400 - lr: 1.0000e-04\n",
            "Epoch 13/30\n",
            "34/34 [==============================] - ETA: 0s - loss: 0.0461 - categorical_accuracy: 0.9877\n",
            "Epoch 13: saving model to model_initRNN_GRU2022-09-1315_20_22.398211/model-00013-0.04606-0.98774-0.52571-0.83000.h5\n",
            "34/34 [==============================] - 224s 7s/step - loss: 0.0461 - categorical_accuracy: 0.9877 - val_loss: 0.5257 - val_categorical_accuracy: 0.8300 - lr: 1.0000e-04\n",
            "Epoch 14/30\n",
            "34/34 [==============================] - ETA: 0s - loss: 0.0450 - categorical_accuracy: 0.9932\n",
            "Epoch 14: saving model to model_initRNN_GRU2022-09-1315_20_22.398211/model-00014-0.04501-0.99317-0.56336-0.82000.h5\n",
            "34/34 [==============================] - 183s 6s/step - loss: 0.0450 - categorical_accuracy: 0.9932 - val_loss: 0.5634 - val_categorical_accuracy: 0.8200 - lr: 1.0000e-04\n",
            "Epoch 15/30\n",
            "34/34 [==============================] - ETA: 0s - loss: 0.0323 - categorical_accuracy: 0.9950\n",
            "Epoch 15: saving model to model_initRNN_GRU2022-09-1315_20_22.398211/model-00015-0.03234-0.99502-0.69690-0.79000.h5\n",
            "34/34 [==============================] - 237s 7s/step - loss: 0.0323 - categorical_accuracy: 0.9950 - val_loss: 0.6969 - val_categorical_accuracy: 0.7900 - lr: 1.0000e-04\n",
            "Epoch 16/30\n",
            "34/34 [==============================] - ETA: 0s - loss: 0.0439 - categorical_accuracy: 0.9901\n",
            "Epoch 16: saving model to model_initRNN_GRU2022-09-1315_20_22.398211/model-00016-0.04390-0.99009-0.48826-0.85000.h5\n",
            "34/34 [==============================] - 178s 5s/step - loss: 0.0439 - categorical_accuracy: 0.9901 - val_loss: 0.4883 - val_categorical_accuracy: 0.8500 - lr: 1.0000e-04\n",
            "Epoch 17/30\n",
            "34/34 [==============================] - ETA: 0s - loss: 0.0328 - categorical_accuracy: 0.9932\n",
            "Epoch 17: saving model to model_initRNN_GRU2022-09-1315_20_22.398211/model-00017-0.03275-0.99321-0.50250-0.84000.h5\n",
            "34/34 [==============================] - 239s 7s/step - loss: 0.0328 - categorical_accuracy: 0.9932 - val_loss: 0.5025 - val_categorical_accuracy: 0.8400 - lr: 1.0000e-04\n",
            "Epoch 18/30\n",
            "34/34 [==============================] - ETA: 0s - loss: 0.0298 - categorical_accuracy: 0.9941\n",
            "Epoch 18: saving model to model_initRNN_GRU2022-09-1315_20_22.398211/model-00018-0.02976-0.99412-0.29655-0.90000.h5\n",
            "34/34 [==============================] - 171s 5s/step - loss: 0.0298 - categorical_accuracy: 0.9941 - val_loss: 0.2965 - val_categorical_accuracy: 0.9000 - lr: 1.0000e-04\n",
            "Epoch 19/30\n",
            "34/34 [==============================] - ETA: 0s - loss: 0.0322 - categorical_accuracy: 0.9943\n",
            "Epoch 19: saving model to model_initRNN_GRU2022-09-1315_20_22.398211/model-00019-0.03219-0.99432-0.95087-0.76000.h5\n",
            "34/34 [==============================] - 247s 7s/step - loss: 0.0322 - categorical_accuracy: 0.9943 - val_loss: 0.9509 - val_categorical_accuracy: 0.7600 - lr: 1.0000e-04\n",
            "Epoch 20/30\n",
            "34/34 [==============================] - ETA: 0s - loss: 0.0398 - categorical_accuracy: 0.9926\n",
            "Epoch 20: saving model to model_initRNN_GRU2022-09-1315_20_22.398211/model-00020-0.03976-0.99265-0.48713-0.86000.h5\n",
            "34/34 [==============================] - 166s 5s/step - loss: 0.0398 - categorical_accuracy: 0.9926 - val_loss: 0.4871 - val_categorical_accuracy: 0.8600 - lr: 1.0000e-04\n",
            "Epoch 21/30\n",
            "34/34 [==============================] - ETA: 0s - loss: 0.0356 - categorical_accuracy: 0.9924\n",
            "Epoch 21: saving model to model_initRNN_GRU2022-09-1315_20_22.398211/model-00021-0.03557-0.99243-0.50083-0.85000.h5\n",
            "34/34 [==============================] - 246s 7s/step - loss: 0.0356 - categorical_accuracy: 0.9924 - val_loss: 0.5008 - val_categorical_accuracy: 0.8500 - lr: 1.0000e-04\n",
            "Epoch 22/30\n",
            "34/34 [==============================] - ETA: 0s - loss: 0.0402 - categorical_accuracy: 0.9853\n",
            "Epoch 22: saving model to model_initRNN_GRU2022-09-1315_20_22.398211/model-00022-0.04017-0.98529-0.44992-0.86000.h5\n",
            "34/34 [==============================] - 167s 5s/step - loss: 0.0402 - categorical_accuracy: 0.9853 - val_loss: 0.4499 - val_categorical_accuracy: 0.8600 - lr: 1.0000e-04\n",
            "Epoch 23/30\n",
            "34/34 [==============================] - ETA: 0s - loss: 0.0296 - categorical_accuracy: 0.9943\n",
            "Epoch 23: saving model to model_initRNN_GRU2022-09-1315_20_22.398211/model-00023-0.02963-0.99432-0.65101-0.82000.h5\n",
            "34/34 [==============================] - 243s 7s/step - loss: 0.0296 - categorical_accuracy: 0.9943 - val_loss: 0.6510 - val_categorical_accuracy: 0.8200 - lr: 1.0000e-04\n",
            "Epoch 24/30\n",
            "34/34 [==============================] - ETA: 0s - loss: 0.0321 - categorical_accuracy: 0.9941\n",
            "Epoch 24: saving model to model_initRNN_GRU2022-09-1315_20_22.398211/model-00024-0.03211-0.99412-0.58863-0.81000.h5\n",
            "34/34 [==============================] - 172s 5s/step - loss: 0.0321 - categorical_accuracy: 0.9941 - val_loss: 0.5886 - val_categorical_accuracy: 0.8100 - lr: 1.0000e-04\n",
            "Epoch 25/30\n",
            "34/34 [==============================] - ETA: 0s - loss: 0.0256 - categorical_accuracy: 0.9933\n",
            "Epoch 25: saving model to model_initRNN_GRU2022-09-1315_20_22.398211/model-00025-0.02562-0.99330-0.52532-0.83000.h5\n",
            "34/34 [==============================] - 244s 7s/step - loss: 0.0256 - categorical_accuracy: 0.9933 - val_loss: 0.5253 - val_categorical_accuracy: 0.8300 - lr: 1.0000e-04\n",
            "Epoch 26/30\n",
            "34/34 [==============================] - ETA: 0s - loss: 0.0222 - categorical_accuracy: 0.9986\n",
            "Epoch 26: saving model to model_initRNN_GRU2022-09-1315_20_22.398211/model-00026-0.02223-0.99856-0.46228-0.86000.h5\n",
            "34/34 [==============================] - 170s 5s/step - loss: 0.0222 - categorical_accuracy: 0.9986 - val_loss: 0.4623 - val_categorical_accuracy: 0.8600 - lr: 1.0000e-04\n",
            "Epoch 27/30\n",
            "34/34 [==============================] - ETA: 0s - loss: 0.0204 - categorical_accuracy: 0.9941\n",
            "Epoch 27: saving model to model_initRNN_GRU2022-09-1315_20_22.398211/model-00027-0.02040-0.99411-0.49237-0.85000.h5\n",
            "34/34 [==============================] - 245s 7s/step - loss: 0.0204 - categorical_accuracy: 0.9941 - val_loss: 0.4924 - val_categorical_accuracy: 0.8500 - lr: 1.0000e-04\n",
            "Epoch 28/30\n",
            "34/34 [==============================] - ETA: 0s - loss: 0.0157 - categorical_accuracy: 1.0000\n",
            "Epoch 28: saving model to model_initRNN_GRU2022-09-1315_20_22.398211/model-00028-0.01570-1.00000-0.42856-0.87000.h5\n",
            "34/34 [==============================] - 173s 5s/step - loss: 0.0157 - categorical_accuracy: 1.0000 - val_loss: 0.4286 - val_categorical_accuracy: 0.8700 - lr: 1.0000e-04\n",
            "Epoch 29/30\n",
            "34/34 [==============================] - ETA: 0s - loss: 0.0179 - categorical_accuracy: 0.9980\n",
            "Epoch 29: saving model to model_initRNN_GRU2022-09-1315_20_22.398211/model-00029-0.01786-0.99798-0.46579-0.82000.h5\n",
            "34/34 [==============================] - 238s 7s/step - loss: 0.0179 - categorical_accuracy: 0.9980 - val_loss: 0.4658 - val_categorical_accuracy: 0.8200 - lr: 1.0000e-05\n",
            "Epoch 30/30\n",
            "34/34 [==============================] - ETA: 0s - loss: 0.0226 - categorical_accuracy: 0.9973\n",
            "Epoch 30: saving model to model_initRNN_GRU2022-09-1315_20_22.398211/model-00030-0.02264-0.99732-0.51455-0.84000.h5\n",
            "34/34 [==============================] - 176s 5s/step - loss: 0.0226 - categorical_accuracy: 0.9973 - val_loss: 0.5146 - val_categorical_accuracy: 0.8400 - lr: 1.0000e-05\n"
          ]
        }
      ],
      "source": [
        "history_1 = model.fit_generator(train_generator, steps_per_epoch=steps_per_epoch, epochs=num_epochs, verbose=1, \n",
        "                    callbacks=callbacks_list, validation_data=val_generator, \n",
        "                    validation_steps=validation_steps, class_weight=None, workers=1, initial_epoch=0)"
      ]
    },
    {
      "cell_type": "code",
      "source": [
        "plot(history_1)"
      ],
      "metadata": {
        "colab": {
          "base_uri": "https://localhost:8080/",
          "height": 265
        },
        "outputId": "980c1803-b26e-4109-932d-55f49f3cf0e2",
        "id": "_hqhw-wh7tU2"
      },
      "execution_count": null,
      "outputs": [
        {
          "output_type": "display_data",
          "data": {
            "text/plain": [
              "<Figure size 1080x288 with 2 Axes>"
            ],
            "image/png": "[encoded data removed]"
          },
          "metadata": {
            "needs_background": "light"
          }
        }
      ]
    },
    {
      "cell_type": "code",
      "source": [],
      "metadata": {
        "id": "W_twj2m17Kmt"
      },
      "execution_count": null,
      "outputs": []
    },
    {
      "cell_type": "markdown",
      "source": [
        "### **Transfered Learning with GRU using Mobilenet Model**"
      ],
      "metadata": {
        "id": "UVHokCKK_pz8"
      }
    },
    {
      "cell_type": "code",
      "source": [],
      "metadata": {
        "id": "rLnANB9p7ujd"
      },
      "execution_count": null,
      "outputs": []
    },
    {
      "cell_type": "code",
      "source": [
        "mobilenet_transfer = mobilenet.MobileNet(weights='imagenet', include_top=False)\n",
        "Input_shape = (20, 128, 128, 3)\n",
        "model = Sequential()\n",
        "model.add(TimeDistributed(mobilenet_transfer,input_shape=Input_shape))\n",
        "\n",
        "\n",
        "model.add(TimeDistributed(BatchNormalization()))\n",
        "model.add(TimeDistributed(MaxPooling2D((2, 2))))\n",
        "model.add(TimeDistributed(Flatten()))\n",
        "\n",
        "model.add(GRU(128))\n",
        "model.add(Dropout(0.25))\n",
        "\n",
        "model.add(Dense(128,activation='relu'))\n",
        "model.add(Dropout(0.25))\n",
        "\n",
        "model.add(Dense(5, activation='softmax'))"
      ],
      "metadata": {
        "colab": {
          "base_uri": "https://localhost:8080/"
        },
        "outputId": "0dde765b-ff36-4309-8e3c-642cd33e22dc",
        "id": "b01Qd-Vt70Py"
      },
      "execution_count": null,
      "outputs": [
        {
          "output_type": "stream",
          "name": "stderr",
          "text": [
            "WARNING:tensorflow:`input_shape` is undefined or non-square, or `rows` is not in [128, 160, 192, 224]. Weights for input shape (224, 224) will be loaded as the default.\n"
          ]
        }
      ]
    },
    {
      "cell_type": "markdown",
      "metadata": {
        "id": "axXuhO-1ACv8"
      },
      "source": [
        "Now that you have written the model, the next step is to `compile` the model. When you print the `summary` of the model, you'll see the total number of parameters you have to train."
      ]
    },
    {
      "cell_type": "code",
      "execution_count": null,
      "metadata": {
        "colab": {
          "base_uri": "https://localhost:8080/"
        },
        "outputId": "725da319-0236-4f99-81ea-7603d34250b1",
        "scrolled": true,
        "id": "oEkBwspD746M"
      },
      "outputs": [
        {
          "output_type": "stream",
          "name": "stdout",
          "text": [
            "Model: \"sequential_1\"\n",
            "_________________________________________________________________\n",
            " Layer (type)                Output Shape              Param #   \n",
            "=================================================================\n",
            " time_distributed_2 (TimeDis  (None, 20, 4, 4, 1024)   3228864   \n",
            " tributed)                                                       \n",
            "                                                                 \n",
            " time_distributed_3 (TimeDis  (None, 20, 4, 4, 1024)   4096      \n",
            " tributed)                                                       \n",
            "                                                                 \n",
            " time_distributed_4 (TimeDis  (None, 20, 2, 2, 1024)   0         \n",
            " tributed)                                                       \n",
            "                                                                 \n",
            " time_distributed_5 (TimeDis  (None, 20, 4096)         0         \n",
            " tributed)                                                       \n",
            "                                                                 \n",
            " gru (GRU)                   (None, 128)               1622784   \n",
            "                                                                 \n",
            " dropout (Dropout)           (None, 128)               0         \n",
            "                                                                 \n",
            " dense (Dense)               (None, 128)               16512     \n",
            "                                                                 \n",
            " dropout_1 (Dropout)         (None, 128)               0         \n",
            "                                                                 \n",
            " dense_1 (Dense)             (None, 5)                 645       \n",
            "                                                                 \n",
            "=================================================================\n",
            "Total params: 4,872,901\n",
            "Trainable params: 4,848,965\n",
            "Non-trainable params: 23,936\n",
            "_________________________________________________________________\n",
            "None\n"
          ]
        }
      ],
      "source": [
        "optimiser = tf.keras.optimizers.Adam()#write your optimizer\n",
        "model.compile(optimizer=optimiser, loss='categorical_crossentropy', metrics=['categorical_accuracy'])\n",
        "print (model.summary())"
      ]
    },
    {
      "cell_type": "markdown",
      "metadata": {
        "id": "Ot-g_zQxAIjj"
      },
      "source": [
        "Now that you have written the model, the next step is to `compile` the model. When you print the `summary` of the model, you'll see the total number of parameters you have to train."
      ]
    },
    {
      "cell_type": "code",
      "source": [
        "train_generator = generator(train_path, train_doc, batch_size,128,128,3)\n",
        "val_generator = generator(val_path, val_doc, batch_size,128,128,3)\n",
        "\n",
        "model_name = 'model_init' + 'base' + str(curr_dt_time).replace(' ','').replace(':','_') + '/'\n",
        "    \n",
        "if not os.path.exists(model_name):\n",
        "    os.mkdir(model_name)\n",
        "        \n",
        "filepath =  model_name + 'model-{epoch:05d}-{loss:.5f}-{categorical_accuracy:.5f}-{val_loss:.5f}-{val_categorical_accuracy:.5f}.h5'\n",
        "\n",
        "checkpoint = ModelCheckpoint(filepath, monitor='val_loss', verbose=1, save_best_only=False, save_weights_only=False, mode='auto', period=1)\n",
        "\n",
        "LR =  ReduceLROnPlateau(monitor = \"val_loss\", factor = 0.2, patience = 4,\n",
        "  verbose = 1)# write the REducelronplateau code here\n",
        "callbacks_list = [checkpoint, LR]\n",
        "# The steps_per_epoch and validation_steps are used by fit_generator to decide the number of next() calls it need to make.\n",
        "\n",
        "if (num_train_sequences%batch_size) == 0:\n",
        "    steps_per_epoch = int(num_train_sequences/batch_size)\n",
        "else:\n",
        "    steps_per_epoch = (num_train_sequences//batch_size) + 1\n",
        "\n",
        "if (num_val_sequences%batch_size) == 0:\n",
        "    validation_steps = int(num_val_sequences/batch_size)\n",
        "else:\n",
        "    validation_steps = (num_val_sequences//batch_size) + 1\n",
        "\n"
      ],
      "metadata": {
        "id": "3lWphTJS7ulD"
      },
      "execution_count": null,
      "outputs": []
    },
    {
      "cell_type": "markdown",
      "metadata": {
        "id": "TFt9PlTaARpU"
      },
      "source": [
        "Let us now fit the model. This will start training the model and with the help of the checkpoints, you'll be able to save the model at the end of each epoch."
      ]
    },
    {
      "cell_type": "code",
      "execution_count": null,
      "metadata": {
        "colab": {
          "base_uri": "https://localhost:8080/"
        },
        "outputId": "99449682-1f1d-4136-cc00-4674611dc673",
        "id": "WJVWXGjg8K4E"
      },
      "outputs": [
        {
          "output_type": "stream",
          "name": "stderr",
          "text": [
            "/usr/local/lib/python3.7/dist-packages/ipykernel_launcher.py:3: UserWarning: `Model.fit_generator` is deprecated and will be removed in a future version. Please use `Model.fit`, which supports generators.\n",
            "  This is separate from the ipykernel package so we can avoid doing imports until\n"
          ]
        },
        {
          "output_type": "stream",
          "name": "stdout",
          "text": [
            "Source path =  /content/drive/Othercomputers/My Laptop (1)/Upgrad DS/Deep Learning/Gesture Recognization/Project_data/train ; batch size = 20\n",
            "Epoch 1/25\n",
            "34/34 [==============================] - ETA: 0s - loss: 1.0531 - categorical_accuracy: 0.5815  Source path =  /content/drive/Othercomputers/My Laptop (1)/Upgrad DS/Deep Learning/Gesture Recognization/Project_data/val ; batch size = 20\n",
            "\n",
            "Epoch 1: saving model to model_initbase2022-09-1316_16_12.232291/model-00001-1.05311-0.58153-0.86416-0.63000.h5\n",
            "34/34 [==============================] - 10834s 328s/step - loss: 1.0531 - categorical_accuracy: 0.5815 - val_loss: 0.8642 - val_categorical_accuracy: 0.6300 - lr: 0.0010\n",
            "Epoch 2/25\n",
            "34/34 [==============================] - ETA: 0s - loss: 0.2715 - categorical_accuracy: 0.8966\n",
            "Epoch 2: saving model to model_initbase2022-09-1316_16_12.232291/model-00002-0.27150-0.89655-0.38499-0.84000.h5\n",
            "34/34 [==============================] - 275s 8s/step - loss: 0.2715 - categorical_accuracy: 0.8966 - val_loss: 0.3850 - val_categorical_accuracy: 0.8400 - lr: 0.0010\n",
            "Epoch 3/25\n",
            "34/34 [==============================] - ETA: 0s - loss: 0.1107 - categorical_accuracy: 0.9588\n",
            "Epoch 3: saving model to model_initbase2022-09-1316_16_12.232291/model-00003-0.11070-0.95882-0.40656-0.87000.h5\n",
            "34/34 [==============================] - 165s 5s/step - loss: 0.1107 - categorical_accuracy: 0.9588 - val_loss: 0.4066 - val_categorical_accuracy: 0.8700 - lr: 0.0010\n",
            "Epoch 4/25\n",
            "34/34 [==============================] - ETA: 0s - loss: 0.0803 - categorical_accuracy: 0.9754\n",
            "Epoch 4: saving model to model_initbase2022-09-1316_16_12.232291/model-00004-0.08035-0.97540-0.22654-0.88000.h5\n",
            "34/34 [==============================] - 239s 7s/step - loss: 0.0803 - categorical_accuracy: 0.9754 - val_loss: 0.2265 - val_categorical_accuracy: 0.8800 - lr: 0.0010\n",
            "Epoch 5/25\n",
            "34/34 [==============================] - ETA: 0s - loss: 0.0496 - categorical_accuracy: 0.9824\n",
            "Epoch 5: saving model to model_initbase2022-09-1316_16_12.232291/model-00005-0.04956-0.98235-0.44526-0.86000.h5\n",
            "34/34 [==============================] - 169s 5s/step - loss: 0.0496 - categorical_accuracy: 0.9824 - val_loss: 0.4453 - val_categorical_accuracy: 0.8600 - lr: 0.0010\n",
            "Epoch 6/25\n",
            "34/34 [==============================] - ETA: 0s - loss: 0.0583 - categorical_accuracy: 0.9754\n",
            "Epoch 6: saving model to model_initbase2022-09-1316_16_12.232291/model-00006-0.05832-0.97540-0.58414-0.86000.h5\n",
            "34/34 [==============================] - 234s 7s/step - loss: 0.0583 - categorical_accuracy: 0.9754 - val_loss: 0.5841 - val_categorical_accuracy: 0.8600 - lr: 0.0010\n",
            "Epoch 7/25\n",
            "34/34 [==============================] - ETA: 0s - loss: 0.1113 - categorical_accuracy: 0.9676\n",
            "Epoch 7: saving model to model_initbase2022-09-1316_16_12.232291/model-00007-0.11132-0.96765-0.49996-0.81000.h5\n",
            "34/34 [==============================] - 160s 5s/step - loss: 0.1113 - categorical_accuracy: 0.9676 - val_loss: 0.5000 - val_categorical_accuracy: 0.8100 - lr: 0.0010\n",
            "Epoch 8/25\n",
            "34/34 [==============================] - ETA: 0s - loss: 0.0879 - categorical_accuracy: 0.9745\n",
            "Epoch 8: saving model to model_initbase2022-09-1316_16_12.232291/model-00008-0.08789-0.97446-0.45463-0.84000.h5\n",
            "\n",
            "Epoch 8: ReduceLROnPlateau reducing learning rate to 0.00020000000949949026.\n",
            "34/34 [==============================] - 244s 7s/step - loss: 0.0879 - categorical_accuracy: 0.9745 - val_loss: 0.4546 - val_categorical_accuracy: 0.8400 - lr: 0.0010\n",
            "Epoch 9/25\n",
            "34/34 [==============================] - ETA: 0s - loss: 0.0443 - categorical_accuracy: 0.9912\n",
            "Epoch 9: saving model to model_initbase2022-09-1316_16_12.232291/model-00009-0.04430-0.99118-0.25101-0.93000.h5\n",
            "34/34 [==============================] - 166s 5s/step - loss: 0.0443 - categorical_accuracy: 0.9912 - val_loss: 0.2510 - val_categorical_accuracy: 0.9300 - lr: 2.0000e-04\n",
            "Epoch 10/25\n",
            "34/34 [==============================] - ETA: 0s - loss: 0.0164 - categorical_accuracy: 0.9952\n",
            "Epoch 10: saving model to model_initbase2022-09-1316_16_12.232291/model-00010-0.01645-0.99515-0.17454-0.94000.h5\n",
            "34/34 [==============================] - 235s 7s/step - loss: 0.0164 - categorical_accuracy: 0.9952 - val_loss: 0.1745 - val_categorical_accuracy: 0.9400 - lr: 2.0000e-04\n",
            "Epoch 11/25\n",
            "34/34 [==============================] - ETA: 0s - loss: 0.0088 - categorical_accuracy: 0.9986\n",
            "Epoch 11: saving model to model_initbase2022-09-1316_16_12.232291/model-00011-0.00881-0.99858-0.23956-0.92000.h5\n",
            "34/34 [==============================] - 167s 5s/step - loss: 0.0088 - categorical_accuracy: 0.9986 - val_loss: 0.2396 - val_categorical_accuracy: 0.9200 - lr: 2.0000e-04\n",
            "Epoch 12/25\n",
            "34/34 [==============================] - ETA: 0s - loss: 0.0072 - categorical_accuracy: 0.9990\n",
            "Epoch 12: saving model to model_initbase2022-09-1316_16_12.232291/model-00012-0.00717-0.99900-0.25868-0.93000.h5\n",
            "34/34 [==============================] - 238s 7s/step - loss: 0.0072 - categorical_accuracy: 0.9990 - val_loss: 0.2587 - val_categorical_accuracy: 0.9300 - lr: 2.0000e-04\n",
            "Epoch 13/25\n",
            "34/34 [==============================] - ETA: 0s - loss: 0.0223 - categorical_accuracy: 0.9932\n",
            "Epoch 13: saving model to model_initbase2022-09-1316_16_12.232291/model-00013-0.02231-0.99317-0.41303-0.88000.h5\n",
            "34/34 [==============================] - 175s 5s/step - loss: 0.0223 - categorical_accuracy: 0.9932 - val_loss: 0.4130 - val_categorical_accuracy: 0.8800 - lr: 2.0000e-04\n",
            "Epoch 14/25\n",
            "34/34 [==============================] - ETA: 0s - loss: 0.0073 - categorical_accuracy: 0.9990\n",
            "Epoch 14: saving model to model_initbase2022-09-1316_16_12.232291/model-00014-0.00728-0.99898-0.26369-0.93000.h5\n",
            "\n",
            "Epoch 14: ReduceLROnPlateau reducing learning rate to 4.0000001899898055e-05.\n",
            "34/34 [==============================] - 231s 7s/step - loss: 0.0073 - categorical_accuracy: 0.9990 - val_loss: 0.2637 - val_categorical_accuracy: 0.9300 - lr: 2.0000e-04\n",
            "Epoch 15/25\n",
            "34/34 [==============================] - ETA: 0s - loss: 0.0168 - categorical_accuracy: 0.9974\n",
            "Epoch 15: saving model to model_initbase2022-09-1316_16_12.232291/model-00015-0.01684-0.99736-0.39257-0.91000.h5\n",
            "34/34 [==============================] - 180s 5s/step - loss: 0.0168 - categorical_accuracy: 0.9974 - val_loss: 0.3926 - val_categorical_accuracy: 0.9100 - lr: 4.0000e-05\n",
            "Epoch 16/25\n",
            "34/34 [==============================] - ETA: 0s - loss: 0.0133 - categorical_accuracy: 0.9979\n",
            "Epoch 16: saving model to model_initbase2022-09-1316_16_12.232291/model-00016-0.01327-0.99790-0.31421-0.92000.h5\n",
            "34/34 [==============================] - 221s 7s/step - loss: 0.0133 - categorical_accuracy: 0.9979 - val_loss: 0.3142 - val_categorical_accuracy: 0.9200 - lr: 4.0000e-05\n",
            "Epoch 17/25\n",
            "34/34 [==============================] - ETA: 0s - loss: 0.0049 - categorical_accuracy: 1.0000\n",
            "Epoch 17: saving model to model_initbase2022-09-1316_16_12.232291/model-00017-0.00493-1.00000-0.44341-0.92000.h5\n",
            "34/34 [==============================] - 186s 6s/step - loss: 0.0049 - categorical_accuracy: 1.0000 - val_loss: 0.4434 - val_categorical_accuracy: 0.9200 - lr: 4.0000e-05\n",
            "Epoch 18/25\n",
            "34/34 [==============================] - ETA: 0s - loss: 0.0045 - categorical_accuracy: 0.9989\n",
            "Epoch 18: saving model to model_initbase2022-09-1316_16_12.232291/model-00018-0.00455-0.99892-0.15949-0.94000.h5\n",
            "34/34 [==============================] - 224s 7s/step - loss: 0.0045 - categorical_accuracy: 0.9989 - val_loss: 0.1595 - val_categorical_accuracy: 0.9400 - lr: 4.0000e-05\n",
            "Epoch 19/25\n",
            "34/34 [==============================] - ETA: 0s - loss: 0.0074 - categorical_accuracy: 0.9988\n",
            "Epoch 19: saving model to model_initbase2022-09-1316_16_12.232291/model-00019-0.00739-0.99877-0.18130-0.96000.h5\n",
            "34/34 [==============================] - 191s 6s/step - loss: 0.0074 - categorical_accuracy: 0.9988 - val_loss: 0.1813 - val_categorical_accuracy: 0.9600 - lr: 4.0000e-05\n",
            "Epoch 20/25\n",
            "34/34 [==============================] - ETA: 0s - loss: 0.0037 - categorical_accuracy: 1.0000\n",
            "Epoch 20: saving model to model_initbase2022-09-1316_16_12.232291/model-00020-0.00372-1.00000-0.37309-0.91000.h5\n",
            "34/34 [==============================] - 216s 7s/step - loss: 0.0037 - categorical_accuracy: 1.0000 - val_loss: 0.3731 - val_categorical_accuracy: 0.9100 - lr: 4.0000e-05\n",
            "Epoch 21/25\n",
            "34/34 [==============================] - ETA: 0s - loss: 0.0075 - categorical_accuracy: 0.9964\n",
            "Epoch 21: saving model to model_initbase2022-09-1316_16_12.232291/model-00021-0.00750-0.99641-0.28649-0.92000.h5\n",
            "34/34 [==============================] - 193s 6s/step - loss: 0.0075 - categorical_accuracy: 0.9964 - val_loss: 0.2865 - val_categorical_accuracy: 0.9200 - lr: 4.0000e-05\n",
            "Epoch 22/25\n",
            "34/34 [==============================] - ETA: 0s - loss: 0.0042 - categorical_accuracy: 1.0000\n",
            "Epoch 22: saving model to model_initbase2022-09-1316_16_12.232291/model-00022-0.00424-1.00000-0.37071-0.92000.h5\n",
            "\n",
            "Epoch 22: ReduceLROnPlateau reducing learning rate to 8.000000525498762e-06.\n",
            "34/34 [==============================] - 204s 6s/step - loss: 0.0042 - categorical_accuracy: 1.0000 - val_loss: 0.3707 - val_categorical_accuracy: 0.9200 - lr: 4.0000e-05\n",
            "Epoch 23/25\n",
            "34/34 [==============================] - ETA: 0s - loss: 0.0033 - categorical_accuracy: 0.9988\n",
            "Epoch 23: saving model to model_initbase2022-09-1316_16_12.232291/model-00023-0.00334-0.99884-0.40285-0.91000.h5\n",
            "34/34 [==============================] - 189s 6s/step - loss: 0.0033 - categorical_accuracy: 0.9988 - val_loss: 0.4028 - val_categorical_accuracy: 0.9100 - lr: 8.0000e-06\n",
            "Epoch 24/25\n",
            "34/34 [==============================] - ETA: 0s - loss: 0.0031 - categorical_accuracy: 1.0000\n",
            "Epoch 24: saving model to model_initbase2022-09-1316_16_12.232291/model-00024-0.00315-1.00000-0.18608-0.96000.h5\n",
            "34/34 [==============================] - 188s 6s/step - loss: 0.0031 - categorical_accuracy: 1.0000 - val_loss: 0.1861 - val_categorical_accuracy: 0.9600 - lr: 8.0000e-06\n",
            "Epoch 25/25\n",
            "34/34 [==============================] - ETA: 0s - loss: 0.0160 - categorical_accuracy: 0.9989\n",
            "Epoch 25: saving model to model_initbase2022-09-1316_16_12.232291/model-00025-0.01595-0.99887-0.36387-0.90000.h5\n",
            "34/34 [==============================] - 199s 6s/step - loss: 0.0160 - categorical_accuracy: 0.9989 - val_loss: 0.3639 - val_categorical_accuracy: 0.9000 - lr: 8.0000e-06\n"
          ]
        }
      ],
      "source": [
        "history1 = model.fit_generator(train_generator, steps_per_epoch=steps_per_epoch, epochs=num_epochs, verbose=1, \n",
        "                    callbacks=callbacks_list, validation_data=val_generator, \n",
        "                    validation_steps=validation_steps, class_weight=None, workers=1, initial_epoch=0)"
      ]
    },
    {
      "cell_type": "code",
      "source": [
        "plot(history1)"
      ],
      "metadata": {
        "colab": {
          "base_uri": "https://localhost:8080/",
          "height": 224
        },
        "outputId": "c1024a98-e0a6-4c19-8d20-b2de4a5b0b4f",
        "id": "lImSNvfu8Prv"
      },
      "execution_count": null,
      "outputs": [
        {
          "output_type": "display_data",
          "data": {
            "text/plain": [
              "<Figure size 1080x288 with 2 Axes>"
            ],
            "image/png": "[encoded data removed]"
          },
          "metadata": {
            "needs_background": "light"
          }
        }
      ]
    },
    {
      "cell_type": "code",
      "source": [],
      "metadata": {
        "id": "pRzV_aYT7uo7"
      },
      "execution_count": null,
      "outputs": []
    }
  ],
  "metadata": {
    "accelerator": "GPU",
    "colab": {
      "collapsed_sections": [],
      "provenance": [],
      "machine_shape": "hm"
    },
    "gpuClass": "standard",
    "kernelspec": {
      "display_name": "Python 3 (ipykernel)",
      "language": "python",
      "name": "python3"
    },
    "language_info": {
      "codemirror_mode": {
        "name": "ipython",
        "version": 3
      },
      "file_extension": ".py",
      "mimetype": "text/x-python",
      "name": "python",
      "nbconvert_exporter": "python",
      "pygments_lexer": "ipython3",
      "version": "3.9.12"
    }
  },
  "nbformat": 4,
  "nbformat_minor": 0
}